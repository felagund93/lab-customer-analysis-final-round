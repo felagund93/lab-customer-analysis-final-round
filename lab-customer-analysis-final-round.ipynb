{
 "cells": [
  {
   "cell_type": "markdown",
   "id": "b4d64333",
   "metadata": {},
   "source": [
    "![logo_ironhack_blue 7](https://user-images.githubusercontent.com/23629340/40541063-a07a0a8a-601a-11e8-91b5-2f13e4e6b441.png)\n",
    "\n",
    "# Lab | Customer Analysis Final Round\n",
    "\n",
    "For this lab, we still keep using the `marketing_customer_analysis.csv` file that you can find in the `files_for_lab` folder.\n",
    "\n",
    "It's time to put it all together. Remember the previous rounds and follow the steps as shown in previous lectures.\n",
    "\n",
    "### 01 - Problem (case study)\n",
    "\n",
    "- Data Description.\n",
    "- Goal.\n",
    "\n",
    "### 02 - Getting Data\n",
    "\n",
    "- Read the `.csv` file.\n",
    "\n",
    "### 03 - Cleaning/Wrangling/EDA\n",
    "\n",
    "- Change headers names.\n",
    "- Deal with NaN values.\n",
    "- Categorical Features.\n",
    "- Numerical Features.\n",
    "- Exploration.\n",
    "\n",
    "### 04 - Processing Data\n",
    "\n",
    "- Dealing with outliers.\n",
    "- Normalization.\n",
    "- Encoding Categorical Data.\n",
    "- Splitting into train set and test set.\n",
    "\n",
    "### 05 - Modeling\n",
    "\n",
    "- Apply model.\n",
    "\n",
    "### 06 - Model Validation\n",
    "\n",
    "- R2.\n",
    "- MSE.\n",
    "- RMSE.\n",
    "- MAE.\n",
    "\n",
    "### 07 - Reporting\n",
    "\n",
    "- Present results."
   ]
  },
  {
   "cell_type": "code",
   "execution_count": 1,
   "id": "7e291bc4",
   "metadata": {},
   "outputs": [],
   "source": [
    "import pandas as pd\n",
    "import numpy as np\n",
    "import matplotlib.pyplot as plt\n",
    "import seaborn as sns\n",
    "import scipy.stats as stats\n",
    "\n",
    "from sklearn.preprocessing import OneHotEncoder, StandardScaler, MinMaxScaler, Normalizer\n",
    "from sklearn.model_selection import train_test_split\n",
    "from sklearn.linear_model import LinearRegression\n",
    "from sklearn.metrics import r2_score, mean_squared_error, mean_absolute_error"
   ]
  },
  {
   "cell_type": "markdown",
   "id": "8e655c44",
   "metadata": {},
   "source": [
    "# Get the data"
   ]
  },
  {
   "cell_type": "code",
   "execution_count": 2,
   "id": "389f44db",
   "metadata": {},
   "outputs": [
    {
     "data": {
      "text/html": [
       "<div>\n",
       "<style scoped>\n",
       "    .dataframe tbody tr th:only-of-type {\n",
       "        vertical-align: middle;\n",
       "    }\n",
       "\n",
       "    .dataframe tbody tr th {\n",
       "        vertical-align: top;\n",
       "    }\n",
       "\n",
       "    .dataframe thead th {\n",
       "        text-align: right;\n",
       "    }\n",
       "</style>\n",
       "<table border=\"1\" class=\"dataframe\">\n",
       "  <thead>\n",
       "    <tr style=\"text-align: right;\">\n",
       "      <th></th>\n",
       "      <th>Customer</th>\n",
       "      <th>State</th>\n",
       "      <th>Customer Lifetime Value</th>\n",
       "      <th>Response</th>\n",
       "      <th>Coverage</th>\n",
       "      <th>Education</th>\n",
       "      <th>Effective To Date</th>\n",
       "      <th>EmploymentStatus</th>\n",
       "      <th>Gender</th>\n",
       "      <th>Income</th>\n",
       "      <th>...</th>\n",
       "      <th>Months Since Policy Inception</th>\n",
       "      <th>Number of Open Complaints</th>\n",
       "      <th>Number of Policies</th>\n",
       "      <th>Policy Type</th>\n",
       "      <th>Policy</th>\n",
       "      <th>Renew Offer Type</th>\n",
       "      <th>Sales Channel</th>\n",
       "      <th>Total Claim Amount</th>\n",
       "      <th>Vehicle Class</th>\n",
       "      <th>Vehicle Size</th>\n",
       "    </tr>\n",
       "  </thead>\n",
       "  <tbody>\n",
       "    <tr>\n",
       "      <th>0</th>\n",
       "      <td>BU79786</td>\n",
       "      <td>Washington</td>\n",
       "      <td>2763.519279</td>\n",
       "      <td>No</td>\n",
       "      <td>Basic</td>\n",
       "      <td>Bachelor</td>\n",
       "      <td>2/24/11</td>\n",
       "      <td>Employed</td>\n",
       "      <td>F</td>\n",
       "      <td>56274</td>\n",
       "      <td>...</td>\n",
       "      <td>5</td>\n",
       "      <td>0</td>\n",
       "      <td>1</td>\n",
       "      <td>Corporate Auto</td>\n",
       "      <td>Corporate L3</td>\n",
       "      <td>Offer1</td>\n",
       "      <td>Agent</td>\n",
       "      <td>384.811147</td>\n",
       "      <td>Two-Door Car</td>\n",
       "      <td>Medsize</td>\n",
       "    </tr>\n",
       "    <tr>\n",
       "      <th>1</th>\n",
       "      <td>QZ44356</td>\n",
       "      <td>Arizona</td>\n",
       "      <td>6979.535903</td>\n",
       "      <td>No</td>\n",
       "      <td>Extended</td>\n",
       "      <td>Bachelor</td>\n",
       "      <td>1/31/11</td>\n",
       "      <td>Unemployed</td>\n",
       "      <td>F</td>\n",
       "      <td>0</td>\n",
       "      <td>...</td>\n",
       "      <td>42</td>\n",
       "      <td>0</td>\n",
       "      <td>8</td>\n",
       "      <td>Personal Auto</td>\n",
       "      <td>Personal L3</td>\n",
       "      <td>Offer3</td>\n",
       "      <td>Agent</td>\n",
       "      <td>1131.464935</td>\n",
       "      <td>Four-Door Car</td>\n",
       "      <td>Medsize</td>\n",
       "    </tr>\n",
       "    <tr>\n",
       "      <th>2</th>\n",
       "      <td>AI49188</td>\n",
       "      <td>Nevada</td>\n",
       "      <td>12887.431650</td>\n",
       "      <td>No</td>\n",
       "      <td>Premium</td>\n",
       "      <td>Bachelor</td>\n",
       "      <td>2/19/11</td>\n",
       "      <td>Employed</td>\n",
       "      <td>F</td>\n",
       "      <td>48767</td>\n",
       "      <td>...</td>\n",
       "      <td>38</td>\n",
       "      <td>0</td>\n",
       "      <td>2</td>\n",
       "      <td>Personal Auto</td>\n",
       "      <td>Personal L3</td>\n",
       "      <td>Offer1</td>\n",
       "      <td>Agent</td>\n",
       "      <td>566.472247</td>\n",
       "      <td>Two-Door Car</td>\n",
       "      <td>Medsize</td>\n",
       "    </tr>\n",
       "    <tr>\n",
       "      <th>3</th>\n",
       "      <td>WW63253</td>\n",
       "      <td>California</td>\n",
       "      <td>7645.861827</td>\n",
       "      <td>No</td>\n",
       "      <td>Basic</td>\n",
       "      <td>Bachelor</td>\n",
       "      <td>1/20/11</td>\n",
       "      <td>Unemployed</td>\n",
       "      <td>M</td>\n",
       "      <td>0</td>\n",
       "      <td>...</td>\n",
       "      <td>65</td>\n",
       "      <td>0</td>\n",
       "      <td>7</td>\n",
       "      <td>Corporate Auto</td>\n",
       "      <td>Corporate L2</td>\n",
       "      <td>Offer1</td>\n",
       "      <td>Call Center</td>\n",
       "      <td>529.881344</td>\n",
       "      <td>SUV</td>\n",
       "      <td>Medsize</td>\n",
       "    </tr>\n",
       "    <tr>\n",
       "      <th>4</th>\n",
       "      <td>HB64268</td>\n",
       "      <td>Washington</td>\n",
       "      <td>2813.692575</td>\n",
       "      <td>No</td>\n",
       "      <td>Basic</td>\n",
       "      <td>Bachelor</td>\n",
       "      <td>2/3/11</td>\n",
       "      <td>Employed</td>\n",
       "      <td>M</td>\n",
       "      <td>43836</td>\n",
       "      <td>...</td>\n",
       "      <td>44</td>\n",
       "      <td>0</td>\n",
       "      <td>1</td>\n",
       "      <td>Personal Auto</td>\n",
       "      <td>Personal L1</td>\n",
       "      <td>Offer1</td>\n",
       "      <td>Agent</td>\n",
       "      <td>138.130879</td>\n",
       "      <td>Four-Door Car</td>\n",
       "      <td>Medsize</td>\n",
       "    </tr>\n",
       "  </tbody>\n",
       "</table>\n",
       "<p>5 rows × 24 columns</p>\n",
       "</div>"
      ],
      "text/plain": [
       "  Customer       State  Customer Lifetime Value Response  Coverage Education  \\\n",
       "0  BU79786  Washington              2763.519279       No     Basic  Bachelor   \n",
       "1  QZ44356     Arizona              6979.535903       No  Extended  Bachelor   \n",
       "2  AI49188      Nevada             12887.431650       No   Premium  Bachelor   \n",
       "3  WW63253  California              7645.861827       No     Basic  Bachelor   \n",
       "4  HB64268  Washington              2813.692575       No     Basic  Bachelor   \n",
       "\n",
       "  Effective To Date EmploymentStatus Gender  Income  ...  \\\n",
       "0           2/24/11         Employed      F   56274  ...   \n",
       "1           1/31/11       Unemployed      F       0  ...   \n",
       "2           2/19/11         Employed      F   48767  ...   \n",
       "3           1/20/11       Unemployed      M       0  ...   \n",
       "4            2/3/11         Employed      M   43836  ...   \n",
       "\n",
       "  Months Since Policy Inception Number of Open Complaints  Number of Policies  \\\n",
       "0                             5                         0                   1   \n",
       "1                            42                         0                   8   \n",
       "2                            38                         0                   2   \n",
       "3                            65                         0                   7   \n",
       "4                            44                         0                   1   \n",
       "\n",
       "      Policy Type        Policy  Renew Offer Type  Sales Channel  \\\n",
       "0  Corporate Auto  Corporate L3            Offer1          Agent   \n",
       "1   Personal Auto   Personal L3            Offer3          Agent   \n",
       "2   Personal Auto   Personal L3            Offer1          Agent   \n",
       "3  Corporate Auto  Corporate L2            Offer1    Call Center   \n",
       "4   Personal Auto   Personal L1            Offer1          Agent   \n",
       "\n",
       "  Total Claim Amount  Vehicle Class Vehicle Size  \n",
       "0         384.811147   Two-Door Car      Medsize  \n",
       "1        1131.464935  Four-Door Car      Medsize  \n",
       "2         566.472247   Two-Door Car      Medsize  \n",
       "3         529.881344            SUV      Medsize  \n",
       "4         138.130879  Four-Door Car      Medsize  \n",
       "\n",
       "[5 rows x 24 columns]"
      ]
     },
     "metadata": {},
     "output_type": "display_data"
    },
    {
     "name": "stdout",
     "output_type": "stream",
     "text": [
      "<class 'pandas.core.frame.DataFrame'>\n",
      "RangeIndex: 9134 entries, 0 to 9133\n",
      "Data columns (total 24 columns):\n",
      " #   Column                         Non-Null Count  Dtype  \n",
      "---  ------                         --------------  -----  \n",
      " 0   Customer                       9134 non-null   object \n",
      " 1   State                          9134 non-null   object \n",
      " 2   Customer Lifetime Value        9134 non-null   float64\n",
      " 3   Response                       9134 non-null   object \n",
      " 4   Coverage                       9134 non-null   object \n",
      " 5   Education                      9134 non-null   object \n",
      " 6   Effective To Date              9134 non-null   object \n",
      " 7   EmploymentStatus               9134 non-null   object \n",
      " 8   Gender                         9134 non-null   object \n",
      " 9   Income                         9134 non-null   int64  \n",
      " 10  Location Code                  9134 non-null   object \n",
      " 11  Marital Status                 9134 non-null   object \n",
      " 12  Monthly Premium Auto           9134 non-null   int64  \n",
      " 13  Months Since Last Claim        9134 non-null   int64  \n",
      " 14  Months Since Policy Inception  9134 non-null   int64  \n",
      " 15  Number of Open Complaints      9134 non-null   int64  \n",
      " 16  Number of Policies             9134 non-null   int64  \n",
      " 17  Policy Type                    9134 non-null   object \n",
      " 18  Policy                         9134 non-null   object \n",
      " 19  Renew Offer Type               9134 non-null   object \n",
      " 20  Sales Channel                  9134 non-null   object \n",
      " 21  Total Claim Amount             9134 non-null   float64\n",
      " 22  Vehicle Class                  9134 non-null   object \n",
      " 23  Vehicle Size                   9134 non-null   object \n",
      "dtypes: float64(2), int64(6), object(16)\n",
      "memory usage: 1.7+ MB\n"
     ]
    }
   ],
   "source": [
    "df = pd.read_csv('files_for_lab/csv_files/marketing_customer_analysis.csv')\n",
    "display(df.head())\n",
    "df.info()"
   ]
  },
  {
   "cell_type": "markdown",
   "id": "ea26c2b1",
   "metadata": {},
   "source": [
    "# Data Cleaning"
   ]
  },
  {
   "cell_type": "code",
   "execution_count": 3,
   "id": "c3563a26",
   "metadata": {},
   "outputs": [],
   "source": [
    "def col_names_std(df):\n",
    "    import pandas as pd\n",
    "    import numpy as np\n",
    "    df.columns = [df.columns[i].lower().replace(' ','_') for i in range(len(df.columns))]\n",
    "    return df\n",
    "\n",
    "df=col_names_std(df)\n",
    "\n",
    "import datetime\n",
    "from datetime import date\n",
    "\n",
    "df['effective_to_date'] = pd.to_datetime(df['effective_to_date'], errors='coerce')"
   ]
  },
  {
   "cell_type": "markdown",
   "id": "b88a8610",
   "metadata": {},
   "source": [
    "# EDA"
   ]
  },
  {
   "cell_type": "markdown",
   "id": "51c3e847",
   "metadata": {},
   "source": [
    "## Numerical features"
   ]
  },
  {
   "cell_type": "code",
   "execution_count": 4,
   "id": "c51c6421",
   "metadata": {},
   "outputs": [
    {
     "data": {
      "image/png": "[encoded data removed]",
      "text/plain": [
       "<Figure size 360x360 with 1 Axes>"
      ]
     },
     "metadata": {
      "needs_background": "light"
     },
     "output_type": "display_data"
    },
    {
     "data": {
      "image/png": "[encoded data removed]",
      "text/plain": [
       "<Figure size 360x360 with 1 Axes>"
      ]
     },
     "metadata": {
      "needs_background": "light"
     },
     "output_type": "display_data"
    },
    {
     "data": {
      "image/png": "[encoded data removed]",
      "text/plain": [
       "<Figure size 360x360 with 1 Axes>"
      ]
     },
     "metadata": {
      "needs_background": "light"
     },
     "output_type": "display_data"
    },
    {
     "data": {
      "image/png": "[encoded data removed]",
      "text/plain": [
       "<Figure size 360x360 with 1 Axes>"
      ]
     },
     "metadata": {
      "needs_background": "light"
     },
     "output_type": "display_data"
    },
    {
     "data": {
      "image/png": "[encoded data removed]",
      "text/plain": [
       "<Figure size 360x360 with 1 Axes>"
      ]
     },
     "metadata": {
      "needs_background": "light"
     },
     "output_type": "display_data"
    },
    {
     "data": {
      "image/png": "[encoded data removed]",
      "text/plain": [
       "<Figure size 360x360 with 1 Axes>"
      ]
     },
     "metadata": {
      "needs_background": "light"
     },
     "output_type": "display_data"
    },
    {
     "data": {
      "image/png": "[encoded data removed]",
      "text/plain": [
       "<Figure size 360x360 with 1 Axes>"
      ]
     },
     "metadata": {
      "needs_background": "light"
     },
     "output_type": "display_data"
    },
    {
     "data": {
      "image/png": "[encoded data removed]",
      "text/plain": [
       "<Figure size 360x360 with 1 Axes>"
      ]
     },
     "metadata": {
      "needs_background": "light"
     },
     "output_type": "display_data"
    }
   ],
   "source": [
    "numerical=df.select_dtypes(include='number')#.apply(lambda x: round(x,2)) # a lambda just to round it pretty\n",
    "#NOTE: I am excluding the boolean response\n",
    "#display(numerical)\n",
    "\n",
    "continuous=['customer_lifetime_value', 'income', 'monthly_premium_auto', \n",
    "            'months_since_last_claim', 'months_since_policy_inception', 'total_claim_amount']\n",
    "discrete=['number_of_open_complaints', 'number_of_policies']\n",
    "\n",
    "for column in numerical.columns:\n",
    "    if column in continuous:\n",
    "        sns.displot(numerical, x=column, bins=20)\n",
    "    else:\n",
    "        sns.displot(numerical, x=column, discrete=True)"
   ]
  },
  {
   "cell_type": "markdown",
   "id": "f156b2da",
   "metadata": {},
   "source": [
    "### Correlation matrices"
   ]
  },
  {
   "cell_type": "code",
   "execution_count": 5,
   "id": "24a7f6c9",
   "metadata": {},
   "outputs": [
    {
     "data": {
      "text/html": [
       "<div>\n",
       "<style scoped>\n",
       "    .dataframe tbody tr th:only-of-type {\n",
       "        vertical-align: middle;\n",
       "    }\n",
       "\n",
       "    .dataframe tbody tr th {\n",
       "        vertical-align: top;\n",
       "    }\n",
       "\n",
       "    .dataframe thead th {\n",
       "        text-align: right;\n",
       "    }\n",
       "</style>\n",
       "<table border=\"1\" class=\"dataframe\">\n",
       "  <thead>\n",
       "    <tr style=\"text-align: right;\">\n",
       "      <th></th>\n",
       "      <th>customer_lifetime_value</th>\n",
       "      <th>income</th>\n",
       "      <th>monthly_premium_auto</th>\n",
       "      <th>months_since_last_claim</th>\n",
       "      <th>months_since_policy_inception</th>\n",
       "      <th>number_of_open_complaints</th>\n",
       "      <th>number_of_policies</th>\n",
       "      <th>total_claim_amount</th>\n",
       "    </tr>\n",
       "  </thead>\n",
       "  <tbody>\n",
       "    <tr>\n",
       "      <th>customer_lifetime_value</th>\n",
       "      <td>1.000000</td>\n",
       "      <td>0.055395</td>\n",
       "      <td>0.453933</td>\n",
       "      <td>0.005126</td>\n",
       "      <td>-0.002429</td>\n",
       "      <td>-0.031312</td>\n",
       "      <td>0.488860</td>\n",
       "      <td>0.210598</td>\n",
       "    </tr>\n",
       "    <tr>\n",
       "      <th>income</th>\n",
       "      <td>0.055395</td>\n",
       "      <td>1.000000</td>\n",
       "      <td>-0.017608</td>\n",
       "      <td>-0.025784</td>\n",
       "      <td>-0.001945</td>\n",
       "      <td>0.006334</td>\n",
       "      <td>-0.010273</td>\n",
       "      <td>-0.401598</td>\n",
       "    </tr>\n",
       "    <tr>\n",
       "      <th>monthly_premium_auto</th>\n",
       "      <td>0.453933</td>\n",
       "      <td>-0.017608</td>\n",
       "      <td>1.000000</td>\n",
       "      <td>-0.005989</td>\n",
       "      <td>0.014596</td>\n",
       "      <td>-0.012751</td>\n",
       "      <td>-0.006936</td>\n",
       "      <td>0.522261</td>\n",
       "    </tr>\n",
       "    <tr>\n",
       "      <th>months_since_last_claim</th>\n",
       "      <td>0.005126</td>\n",
       "      <td>-0.025784</td>\n",
       "      <td>-0.005989</td>\n",
       "      <td>1.000000</td>\n",
       "      <td>-0.048269</td>\n",
       "      <td>0.005736</td>\n",
       "      <td>0.011439</td>\n",
       "      <td>-0.000782</td>\n",
       "    </tr>\n",
       "    <tr>\n",
       "      <th>months_since_policy_inception</th>\n",
       "      <td>-0.002429</td>\n",
       "      <td>-0.001945</td>\n",
       "      <td>0.014596</td>\n",
       "      <td>-0.048269</td>\n",
       "      <td>1.000000</td>\n",
       "      <td>-0.013233</td>\n",
       "      <td>-0.009546</td>\n",
       "      <td>-0.006569</td>\n",
       "    </tr>\n",
       "    <tr>\n",
       "      <th>number_of_open_complaints</th>\n",
       "      <td>-0.031312</td>\n",
       "      <td>0.006334</td>\n",
       "      <td>-0.012751</td>\n",
       "      <td>0.005736</td>\n",
       "      <td>-0.013233</td>\n",
       "      <td>1.000000</td>\n",
       "      <td>0.001523</td>\n",
       "      <td>-0.024694</td>\n",
       "    </tr>\n",
       "    <tr>\n",
       "      <th>number_of_policies</th>\n",
       "      <td>0.488860</td>\n",
       "      <td>-0.010273</td>\n",
       "      <td>-0.006936</td>\n",
       "      <td>0.011439</td>\n",
       "      <td>-0.009546</td>\n",
       "      <td>0.001523</td>\n",
       "      <td>1.000000</td>\n",
       "      <td>-0.011100</td>\n",
       "    </tr>\n",
       "    <tr>\n",
       "      <th>total_claim_amount</th>\n",
       "      <td>0.210598</td>\n",
       "      <td>-0.401598</td>\n",
       "      <td>0.522261</td>\n",
       "      <td>-0.000782</td>\n",
       "      <td>-0.006569</td>\n",
       "      <td>-0.024694</td>\n",
       "      <td>-0.011100</td>\n",
       "      <td>1.000000</td>\n",
       "    </tr>\n",
       "  </tbody>\n",
       "</table>\n",
       "</div>"
      ],
      "text/plain": [
       "                               customer_lifetime_value    income  \\\n",
       "customer_lifetime_value                       1.000000  0.055395   \n",
       "income                                        0.055395  1.000000   \n",
       "monthly_premium_auto                          0.453933 -0.017608   \n",
       "months_since_last_claim                       0.005126 -0.025784   \n",
       "months_since_policy_inception                -0.002429 -0.001945   \n",
       "number_of_open_complaints                    -0.031312  0.006334   \n",
       "number_of_policies                            0.488860 -0.010273   \n",
       "total_claim_amount                            0.210598 -0.401598   \n",
       "\n",
       "                               monthly_premium_auto  months_since_last_claim  \\\n",
       "customer_lifetime_value                    0.453933                 0.005126   \n",
       "income                                    -0.017608                -0.025784   \n",
       "monthly_premium_auto                       1.000000                -0.005989   \n",
       "months_since_last_claim                   -0.005989                 1.000000   \n",
       "months_since_policy_inception              0.014596                -0.048269   \n",
       "number_of_open_complaints                 -0.012751                 0.005736   \n",
       "number_of_policies                        -0.006936                 0.011439   \n",
       "total_claim_amount                         0.522261                -0.000782   \n",
       "\n",
       "                               months_since_policy_inception  \\\n",
       "customer_lifetime_value                            -0.002429   \n",
       "income                                             -0.001945   \n",
       "monthly_premium_auto                                0.014596   \n",
       "months_since_last_claim                            -0.048269   \n",
       "months_since_policy_inception                       1.000000   \n",
       "number_of_open_complaints                          -0.013233   \n",
       "number_of_policies                                 -0.009546   \n",
       "total_claim_amount                                 -0.006569   \n",
       "\n",
       "                               number_of_open_complaints  number_of_policies  \\\n",
       "customer_lifetime_value                        -0.031312            0.488860   \n",
       "income                                          0.006334           -0.010273   \n",
       "monthly_premium_auto                           -0.012751           -0.006936   \n",
       "months_since_last_claim                         0.005736            0.011439   \n",
       "months_since_policy_inception                  -0.013233           -0.009546   \n",
       "number_of_open_complaints                       1.000000            0.001523   \n",
       "number_of_policies                              0.001523            1.000000   \n",
       "total_claim_amount                             -0.024694           -0.011100   \n",
       "\n",
       "                               total_claim_amount  \n",
       "customer_lifetime_value                  0.210598  \n",
       "income                                  -0.401598  \n",
       "monthly_premium_auto                     0.522261  \n",
       "months_since_last_claim                 -0.000782  \n",
       "months_since_policy_inception           -0.006569  \n",
       "number_of_open_complaints               -0.024694  \n",
       "number_of_policies                      -0.011100  \n",
       "total_claim_amount                       1.000000  "
      ]
     },
     "execution_count": 5,
     "metadata": {},
     "output_type": "execute_result"
    }
   ],
   "source": [
    "corr_mat = df.corr(method='spearman')\n",
    "corr_mat"
   ]
  },
  {
   "cell_type": "code",
   "execution_count": 6,
   "id": "bbc8bbf3",
   "metadata": {},
   "outputs": [
    {
     "data": {
      "image/png": "[encoded data removed]",
      "text/plain": [
       "<Figure size 1008x864 with 2 Axes>"
      ]
     },
     "metadata": {
      "needs_background": "light"
     },
     "output_type": "display_data"
    }
   ],
   "source": [
    "# Plot a correlation matrix to locate possible correlation right away\n",
    "\n",
    "mask = np.zeros_like(corr_mat)\n",
    "mask[np.triu_indices_from(mask)] = True # Mask to hide the repeated half of the matrix\n",
    "\n",
    "fig, ax = plt.subplots(figsize=(14, 12)) # this will set the width and height of the plot\n",
    "sns.set_context('paper') #This affects things like the size of the labels, lines, and other elements of the plot\n",
    "ax = sns.heatmap(corr_mat, mask=mask, annot=True, cmap='jet') # Heatmap declaration\n",
    "ax.set_title('Multi-collinearity of customer features') #Title for the graph\n",
    "plt.show()"
   ]
  },
  {
   "cell_type": "markdown",
   "id": "bf5e9a0f",
   "metadata": {},
   "source": [
    "## Categorical features"
   ]
  },
  {
   "cell_type": "code",
   "execution_count": 9,
   "id": "78ff7559",
   "metadata": {},
   "outputs": [
    {
     "data": {
      "image/png": "[encoded data removed]",
      "text/plain": [
       "<Figure size 432x288 with 1 Axes>"
      ]
     },
     "metadata": {
      "needs_background": "light"
     },
     "output_type": "display_data"
    },
    {
     "data": {
      "image/png": "[encoded data removed]",
      "text/plain": [
       "<Figure size 432x288 with 1 Axes>"
      ]
     },
     "metadata": {
      "needs_background": "light"
     },
     "output_type": "display_data"
    },
    {
     "data": {
      "image/png": "[encoded data removed]",
      "text/plain": [
       "<Figure size 432x288 with 1 Axes>"
      ]
     },
     "metadata": {
      "needs_background": "light"
     },
     "output_type": "display_data"
    },
    {
     "data": {
      "image/png": "[encoded data removed]",
      "text/plain": [
       "<Figure size 432x288 with 1 Axes>"
      ]
     },
     "metadata": {
      "needs_background": "light"
     },
     "output_type": "display_data"
    },
    {
     "data": {
      "image/png": "[encoded data removed]",
      "text/plain": [
       "<Figure size 432x288 with 1 Axes>"
      ]
     },
     "metadata": {
      "needs_background": "light"
     },
     "output_type": "display_data"
    },
    {
     "data": {
      "image/png": "[encoded data removed]",
      "text/plain": [
       "<Figure size 432x288 with 1 Axes>"
      ]
     },
     "metadata": {
      "needs_background": "light"
     },
     "output_type": "display_data"
    },
    {
     "data": {
      "image/png": "[encoded data removed]",
      "text/plain": [
       "<Figure size 432x288 with 1 Axes>"
      ]
     },
     "metadata": {
      "needs_background": "light"
     },
     "output_type": "display_data"
    },
    {
     "data": {
      "image/png": "[encoded data removed]",
      "text/plain": [
       "<Figure size 432x288 with 1 Axes>"
      ]
     },
     "metadata": {
      "needs_background": "light"
     },
     "output_type": "display_data"
    },
    {
     "data": {
      "image/png": "[encoded data removed]",
      "text/plain": [
       "<Figure size 432x288 with 1 Axes>"
      ]
     },
     "metadata": {
      "needs_background": "light"
     },
     "output_type": "display_data"
    },
    {
     "data": {
      "image/png": "[encoded data removed]",
      "text/plain": [
       "<Figure size 432x288 with 1 Axes>"
      ]
     },
     "metadata": {
      "needs_background": "light"
     },
     "output_type": "display_data"
    },
    {
     "data": {
      "image/png": "[encoded data removed]",
      "text/plain": [
       "<Figure size 432x288 with 1 Axes>"
      ]
     },
     "metadata": {
      "needs_background": "light"
     },
     "output_type": "display_data"
    },
    {
     "data": {
      "image/png": "[encoded data removed]",
      "text/plain": [
       "<Figure size 432x288 with 1 Axes>"
      ]
     },
     "metadata": {
      "needs_background": "light"
     },
     "output_type": "display_data"
    },
    {
     "data": {
      "image/png": "[encoded data removed]",
      "text/plain": [
       "<Figure size 432x288 with 1 Axes>"
      ]
     },
     "metadata": {
      "needs_background": "light"
     },
     "output_type": "display_data"
    },
    {
     "data": {
      "image/png": "[encoded data removed]",
      "text/plain": [
       "<Figure size 432x288 with 1 Axes>"
      ]
     },
     "metadata": {
      "needs_background": "light"
     },
     "output_type": "display_data"
    }
   ],
   "source": [
    "categoricals=df.select_dtypes(include=['object', 'datetime64']).drop(['customer','effective_to_date'], axis=1)\n",
    "#NOTE: I am excluding the datetime objects\n",
    "\n",
    "for col in categoricals.columns:\n",
    "    sns.countplot(x=df[col])#, hue=df['response'])\n",
    "    plt.show()"
   ]
  },
  {
   "cell_type": "markdown",
   "id": "45c1c0ca",
   "metadata": {},
   "source": [
    "# Feature Engineering"
   ]
  },
  {
   "cell_type": "markdown",
   "id": "739f5e74",
   "metadata": {},
   "source": [
    "## Normalization - BoxCox Transformation"
   ]
  },
  {
   "cell_type": "code",
   "execution_count": 10,
   "id": "a2c5ca73",
   "metadata": {},
   "outputs": [],
   "source": [
    "def boxcox_transform(df):\n",
    "    numeric_cols = df.select_dtypes(np.number).columns\n",
    "    _ci = {column: None for column in numeric_cols} #it will first generate this dictionary\n",
    "    for column in numeric_cols:\n",
    "        #In this case, I need the confidence interval data\n",
    "        # since i know any columns should take negative numbers, to avoid -inf in df\n",
    "        df[column] = np.where(df[column]<=0, np.NAN, df[column]) #boxcox does not work with negatives\n",
    "        df[column] = df[column].fillna(df[column].mean()) #I fill the nan's with the mean\n",
    "        transformed_data, ci = stats.boxcox(df[column]) \n",
    "        df[column] = transformed_data\n",
    "        _ci[column] = [ci] \n",
    "    return df, _ci"
   ]
  },
  {
   "cell_type": "code",
   "execution_count": 11,
   "id": "67eda23c",
   "metadata": {},
   "outputs": [],
   "source": [
    "df_for_BCTrans = df.copy() #It is important to do it this way with the .copy method.\n",
    "\n",
    "df_trans, _ci = boxcox_transform(df_for_BCTrans)"
   ]
  },
  {
   "cell_type": "markdown",
   "id": "3d2b0378",
   "metadata": {},
   "source": [
    "## Remove Outliers"
   ]
  },
  {
   "cell_type": "code",
   "execution_count": 12,
   "id": "a9fd4dc3",
   "metadata": {},
   "outputs": [
    {
     "data": {
      "image/png": "[encoded data removed]",
      "text/plain": [
       "<Figure size 432x288 with 1 Axes>"
      ]
     },
     "metadata": {
      "needs_background": "light"
     },
     "output_type": "display_data"
    },
    {
     "data": {
      "image/png": "[encoded data removed]",
      "text/plain": [
       "<Figure size 432x288 with 1 Axes>"
      ]
     },
     "metadata": {
      "needs_background": "light"
     },
     "output_type": "display_data"
    },
    {
     "data": {
      "image/png": "[encoded data removed]",
      "text/plain": [
       "<Figure size 432x288 with 1 Axes>"
      ]
     },
     "metadata": {
      "needs_background": "light"
     },
     "output_type": "display_data"
    },
    {
     "data": {
      "image/png": "[encoded data removed]",
      "text/plain": [
       "<Figure size 432x288 with 1 Axes>"
      ]
     },
     "metadata": {
      "needs_background": "light"
     },
     "output_type": "display_data"
    },
    {
     "data": {
      "image/png": "[encoded data removed]",
      "text/plain": [
       "<Figure size 432x288 with 1 Axes>"
      ]
     },
     "metadata": {
      "needs_background": "light"
     },
     "output_type": "display_data"
    },
    {
     "data": {
      "image/png": "[encoded data removed]",
      "text/plain": [
       "<Figure size 432x288 with 1 Axes>"
      ]
     },
     "metadata": {
      "needs_background": "light"
     },
     "output_type": "display_data"
    },
    {
     "data": {
      "image/png": "[encoded data removed]",
      "text/plain": [
       "<Figure size 432x288 with 1 Axes>"
      ]
     },
     "metadata": {
      "needs_background": "light"
     },
     "output_type": "display_data"
    },
    {
     "data": {
      "image/png": "[encoded data removed]",
      "text/plain": [
       "<Figure size 432x288 with 1 Axes>"
      ]
     },
     "metadata": {
      "needs_background": "light"
     },
     "output_type": "display_data"
    },
    {
     "data": {
      "text/plain": [
       "(9134, 24)"
      ]
     },
     "execution_count": 12,
     "metadata": {},
     "output_type": "execute_result"
    }
   ],
   "source": [
    "for col in df_trans.select_dtypes(include = np.number):\n",
    "    sns.boxplot(x=df_trans[col])#, whis=10) # whis is the parameter to choose your threshold, standard is 1.5\n",
    "    plt.show()\n",
    "    \n",
    "df_trans.shape"
   ]
  },
  {
   "cell_type": "code",
   "execution_count": 13,
   "id": "2259eb6a",
   "metadata": {},
   "outputs": [],
   "source": [
    "def remove_outliers(df, threshold=1.5, in_columns=df.select_dtypes(np.number).columns, skip_columns=[]):\n",
    "    for column in in_columns:\n",
    "        if column not in skip_columns:\n",
    "            upper = np.percentile(df[column],75)\n",
    "            lower = np.percentile(df[column],25)\n",
    "            iqr = upper - lower\n",
    "            upper_limit = upper + threshold * iqr\n",
    "            lower_limit = lower - threshold * iqr\n",
    "            df = df[(df[column]>lower_limit) & (df[column]<upper_limit)]\n",
    "    return df"
   ]
  },
  {
   "cell_type": "code",
   "execution_count": 14,
   "id": "f0d426d1",
   "metadata": {},
   "outputs": [
    {
     "data": {
      "image/png": "[encoded data removed]",
      "text/plain": [
       "<Figure size 432x288 with 1 Axes>"
      ]
     },
     "metadata": {
      "needs_background": "light"
     },
     "output_type": "display_data"
    },
    {
     "data": {
      "image/png": "[encoded data removed]",
      "text/plain": [
       "<Figure size 432x288 with 1 Axes>"
      ]
     },
     "metadata": {
      "needs_background": "light"
     },
     "output_type": "display_data"
    },
    {
     "data": {
      "text/plain": [
       "(8534, 24)"
      ]
     },
     "execution_count": 14,
     "metadata": {},
     "output_type": "execute_result"
    }
   ],
   "source": [
    "df_trans_outliers = df_trans.copy()\n",
    "\n",
    "df_trans_outliers = remove_outliers(df_trans_outliers, threshold=1.5, in_columns=['total_claim_amount']) # we don't want to reduce our data too much,\n",
    "## but we can play with the parameters to see,\n",
    "## so after a better analysis we can choose which columns to drop outliers or not\n",
    "sns.boxplot(x=df_trans_outliers['customer_lifetime_value'])\n",
    "plt.show()\n",
    "sns.boxplot(x=df_trans_outliers['total_claim_amount'])\n",
    "plt.show()\n",
    "df_trans_outliers.shape"
   ]
  },
  {
   "cell_type": "code",
   "execution_count": 15,
   "id": "a7b886b6",
   "metadata": {},
   "outputs": [],
   "source": [
    "df=df_trans_outliers"
   ]
  },
  {
   "cell_type": "markdown",
   "id": "a1ba9dee",
   "metadata": {},
   "source": [
    "## X/y split"
   ]
  },
  {
   "cell_type": "code",
   "execution_count": 16,
   "id": "d7f66b79",
   "metadata": {},
   "outputs": [
    {
     "name": "stderr",
     "output_type": "stream",
     "text": [
      "<ipython-input-16-0f2dcb1baa20>:5: DeprecationWarning: `np.object` is a deprecated alias for the builtin `object`. To silence this warning, use `object` by itself. Doing this will not modify any behavior and is safe. \n",
      "Deprecated in NumPy 1.20; for more details and guidance: https://numpy.org/devdocs/release/1.20.0-notes.html#deprecations\n",
      "  X_cat = X.select_dtypes(include = np.object).drop(['customer'], axis=1)\n"
     ]
    }
   ],
   "source": [
    "y = df['total_claim_amount']\n",
    "X = df.drop(['total_claim_amount'], axis=1)\n",
    "\n",
    "X_num = X.select_dtypes(include = np.number)#np.number includes int and float\n",
    "X_cat = X.select_dtypes(include = np.object).drop(['customer'], axis=1)"
   ]
  },
  {
   "cell_type": "markdown",
   "id": "8032ee1d",
   "metadata": {},
   "source": [
    "## Encoding categorical values"
   ]
  },
  {
   "cell_type": "code",
   "execution_count": 17,
   "id": "f5ddae1c",
   "metadata": {},
   "outputs": [
    {
     "data": {
      "text/plain": [
       "array([[0., 0., 0., ..., 1., 1., 0.],\n",
       "       [0., 0., 0., ..., 0., 1., 0.],\n",
       "       [0., 1., 0., ..., 1., 1., 0.],\n",
       "       ...,\n",
       "       [1., 0., 0., ..., 0., 1., 0.],\n",
       "       [1., 0., 0., ..., 0., 0., 0.],\n",
       "       [1., 0., 0., ..., 1., 1., 0.]])"
      ]
     },
     "execution_count": 17,
     "metadata": {},
     "output_type": "execute_result"
    }
   ],
   "source": [
    "# One Hot Encoding categorical variables\n",
    "encoder = OneHotEncoder(handle_unknown='error', drop='first') #drop one column for efficiency. It can be deduced\n",
    "X_cat_encoded = encoder.fit_transform(X_cat).toarray()\n",
    "X_cat_encoded"
   ]
  },
  {
   "cell_type": "code",
   "execution_count": 18,
   "id": "bd155f75",
   "metadata": {},
   "outputs": [
    {
     "data": {
      "text/html": [
       "<div>\n",
       "<style scoped>\n",
       "    .dataframe tbody tr th:only-of-type {\n",
       "        vertical-align: middle;\n",
       "    }\n",
       "\n",
       "    .dataframe tbody tr th {\n",
       "        vertical-align: top;\n",
       "    }\n",
       "\n",
       "    .dataframe thead th {\n",
       "        text-align: right;\n",
       "    }\n",
       "</style>\n",
       "<table border=\"1\" class=\"dataframe\">\n",
       "  <thead>\n",
       "    <tr style=\"text-align: right;\">\n",
       "      <th></th>\n",
       "      <th>customer_lifetime_value</th>\n",
       "      <th>income</th>\n",
       "      <th>monthly_premium_auto</th>\n",
       "      <th>months_since_last_claim</th>\n",
       "      <th>months_since_policy_inception</th>\n",
       "      <th>number_of_open_complaints</th>\n",
       "      <th>number_of_policies</th>\n",
       "      <th>x0_California</th>\n",
       "      <th>x0_Nevada</th>\n",
       "      <th>x0_Oregon</th>\n",
       "      <th>...</th>\n",
       "      <th>x11_Branch</th>\n",
       "      <th>x11_Call Center</th>\n",
       "      <th>x11_Web</th>\n",
       "      <th>x12_Luxury Car</th>\n",
       "      <th>x12_Luxury SUV</th>\n",
       "      <th>x12_SUV</th>\n",
       "      <th>x12_Sports Car</th>\n",
       "      <th>x12_Two-Door Car</th>\n",
       "      <th>x13_Medsize</th>\n",
       "      <th>x13_Small</th>\n",
       "    </tr>\n",
       "  </thead>\n",
       "  <tbody>\n",
       "    <tr>\n",
       "      <th>392</th>\n",
       "      <td>2.772517</td>\n",
       "      <td>1167.961720</td>\n",
       "      <td>0.685925</td>\n",
       "      <td>4.379465</td>\n",
       "      <td>21.454469</td>\n",
       "      <td>0.648045</td>\n",
       "      <td>0.607328</td>\n",
       "      <td>1.0</td>\n",
       "      <td>0.0</td>\n",
       "      <td>0.0</td>\n",
       "      <td>...</td>\n",
       "      <td>0.0</td>\n",
       "      <td>0.0</td>\n",
       "      <td>0.0</td>\n",
       "      <td>0.0</td>\n",
       "      <td>0.0</td>\n",
       "      <td>0.0</td>\n",
       "      <td>0.0</td>\n",
       "      <td>0.0</td>\n",
       "      <td>0.0</td>\n",
       "      <td>1.0</td>\n",
       "    </tr>\n",
       "    <tr>\n",
       "      <th>3795</th>\n",
       "      <td>2.700883</td>\n",
       "      <td>1296.940762</td>\n",
       "      <td>0.685316</td>\n",
       "      <td>3.981540</td>\n",
       "      <td>4.217280</td>\n",
       "      <td>0.648045</td>\n",
       "      <td>0.000000</td>\n",
       "      <td>0.0</td>\n",
       "      <td>0.0</td>\n",
       "      <td>1.0</td>\n",
       "      <td>...</td>\n",
       "      <td>1.0</td>\n",
       "      <td>0.0</td>\n",
       "      <td>0.0</td>\n",
       "      <td>0.0</td>\n",
       "      <td>0.0</td>\n",
       "      <td>0.0</td>\n",
       "      <td>0.0</td>\n",
       "      <td>0.0</td>\n",
       "      <td>1.0</td>\n",
       "      <td>0.0</td>\n",
       "    </tr>\n",
       "    <tr>\n",
       "      <th>1039</th>\n",
       "      <td>2.724006</td>\n",
       "      <td>1053.751459</td>\n",
       "      <td>0.685925</td>\n",
       "      <td>3.981540</td>\n",
       "      <td>28.541156</td>\n",
       "      <td>0.648045</td>\n",
       "      <td>0.000000</td>\n",
       "      <td>1.0</td>\n",
       "      <td>0.0</td>\n",
       "      <td>0.0</td>\n",
       "      <td>...</td>\n",
       "      <td>0.0</td>\n",
       "      <td>0.0</td>\n",
       "      <td>0.0</td>\n",
       "      <td>0.0</td>\n",
       "      <td>0.0</td>\n",
       "      <td>0.0</td>\n",
       "      <td>0.0</td>\n",
       "      <td>0.0</td>\n",
       "      <td>1.0</td>\n",
       "      <td>0.0</td>\n",
       "    </tr>\n",
       "    <tr>\n",
       "      <th>5367</th>\n",
       "      <td>2.696952</td>\n",
       "      <td>1141.640558</td>\n",
       "      <td>0.685406</td>\n",
       "      <td>5.471294</td>\n",
       "      <td>25.552871</td>\n",
       "      <td>1.779382</td>\n",
       "      <td>0.000000</td>\n",
       "      <td>0.0</td>\n",
       "      <td>0.0</td>\n",
       "      <td>0.0</td>\n",
       "      <td>...</td>\n",
       "      <td>0.0</td>\n",
       "      <td>0.0</td>\n",
       "      <td>0.0</td>\n",
       "      <td>0.0</td>\n",
       "      <td>0.0</td>\n",
       "      <td>0.0</td>\n",
       "      <td>0.0</td>\n",
       "      <td>0.0</td>\n",
       "      <td>1.0</td>\n",
       "      <td>0.0</td>\n",
       "    </tr>\n",
       "    <tr>\n",
       "      <th>2802</th>\n",
       "      <td>2.800150</td>\n",
       "      <td>808.026143</td>\n",
       "      <td>0.685826</td>\n",
       "      <td>9.467765</td>\n",
       "      <td>19.798936</td>\n",
       "      <td>0.648045</td>\n",
       "      <td>0.607328</td>\n",
       "      <td>0.0</td>\n",
       "      <td>0.0</td>\n",
       "      <td>1.0</td>\n",
       "      <td>...</td>\n",
       "      <td>1.0</td>\n",
       "      <td>0.0</td>\n",
       "      <td>0.0</td>\n",
       "      <td>0.0</td>\n",
       "      <td>0.0</td>\n",
       "      <td>0.0</td>\n",
       "      <td>0.0</td>\n",
       "      <td>0.0</td>\n",
       "      <td>0.0</td>\n",
       "      <td>1.0</td>\n",
       "    </tr>\n",
       "  </tbody>\n",
       "</table>\n",
       "<p>5 rows × 50 columns</p>\n",
       "</div>"
      ],
      "text/plain": [
       "      customer_lifetime_value       income  monthly_premium_auto  \\\n",
       "392                  2.772517  1167.961720              0.685925   \n",
       "3795                 2.700883  1296.940762              0.685316   \n",
       "1039                 2.724006  1053.751459              0.685925   \n",
       "5367                 2.696952  1141.640558              0.685406   \n",
       "2802                 2.800150   808.026143              0.685826   \n",
       "\n",
       "      months_since_last_claim  months_since_policy_inception  \\\n",
       "392                  4.379465                      21.454469   \n",
       "3795                 3.981540                       4.217280   \n",
       "1039                 3.981540                      28.541156   \n",
       "5367                 5.471294                      25.552871   \n",
       "2802                 9.467765                      19.798936   \n",
       "\n",
       "      number_of_open_complaints  number_of_policies  x0_California  x0_Nevada  \\\n",
       "392                    0.648045            0.607328            1.0        0.0   \n",
       "3795                   0.648045            0.000000            0.0        0.0   \n",
       "1039                   0.648045            0.000000            1.0        0.0   \n",
       "5367                   1.779382            0.000000            0.0        0.0   \n",
       "2802                   0.648045            0.607328            0.0        0.0   \n",
       "\n",
       "      x0_Oregon  ...  x11_Branch  x11_Call Center  x11_Web  x12_Luxury Car  \\\n",
       "392         0.0  ...         0.0              0.0      0.0             0.0   \n",
       "3795        1.0  ...         1.0              0.0      0.0             0.0   \n",
       "1039        0.0  ...         0.0              0.0      0.0             0.0   \n",
       "5367        0.0  ...         0.0              0.0      0.0             0.0   \n",
       "2802        1.0  ...         1.0              0.0      0.0             0.0   \n",
       "\n",
       "      x12_Luxury SUV  x12_SUV  x12_Sports Car  x12_Two-Door Car  x13_Medsize  \\\n",
       "392              0.0      0.0             0.0               0.0          0.0   \n",
       "3795             0.0      0.0             0.0               0.0          1.0   \n",
       "1039             0.0      0.0             0.0               0.0          1.0   \n",
       "5367             0.0      0.0             0.0               0.0          1.0   \n",
       "2802             0.0      0.0             0.0               0.0          0.0   \n",
       "\n",
       "      x13_Small  \n",
       "392         1.0  \n",
       "3795        0.0  \n",
       "1039        0.0  \n",
       "5367        0.0  \n",
       "2802        1.0  \n",
       "\n",
       "[5 rows x 50 columns]"
      ]
     },
     "execution_count": 18,
     "metadata": {},
     "output_type": "execute_result"
    }
   ],
   "source": [
    "# Concat DataFrames\n",
    "\n",
    "column_names = list(X_num.columns) # get list of numerical column names\n",
    "column_names.extend(list(encoder.get_feature_names())) # add list of dummified categorical column names\n",
    "\n",
    "X_numcat = np.concatenate([X_num, X_cat_encoded], axis=1)\n",
    "X_ready = pd.DataFrame(data=X_numcat, index=X.index, columns=column_names)\n",
    "X_ready.sample(5)"
   ]
  },
  {
   "cell_type": "markdown",
   "id": "d5677022",
   "metadata": {},
   "source": [
    "## Train-test Split"
   ]
  },
  {
   "cell_type": "code",
   "execution_count": 19,
   "id": "36dc7b75",
   "metadata": {},
   "outputs": [],
   "source": [
    "X_train, X_test, y_train, y_test = train_test_split(X_ready, y, test_size=0.3, random_state=42)"
   ]
  },
  {
   "cell_type": "markdown",
   "id": "5c4dc26b",
   "metadata": {},
   "source": [
    "## Model fitting"
   ]
  },
  {
   "cell_type": "code",
   "execution_count": 20,
   "id": "26e8e9e5",
   "metadata": {},
   "outputs": [
    {
     "data": {
      "text/plain": [
       "LinearRegression()"
      ]
     },
     "execution_count": 20,
     "metadata": {},
     "output_type": "execute_result"
    }
   ],
   "source": [
    "model = LinearRegression()\n",
    "model.fit(X_train, y_train)"
   ]
  },
  {
   "cell_type": "markdown",
   "id": "3867ddb2",
   "metadata": {},
   "source": [
    "# Model evaluation"
   ]
  },
  {
   "cell_type": "code",
   "execution_count": 21,
   "id": "7b80f6a5",
   "metadata": {},
   "outputs": [],
   "source": [
    "predictions_norm = model.predict(X_test)\n",
    "R2 = r2_score(y_test, predictions_norm)\n",
    "\n",
    "from scipy.special import inv_boxcox\n",
    "\n",
    "predictions = inv_boxcox(predictions_norm, _ci['total_claim_amount'])\n",
    "\n",
    "MAE = mean_absolute_error(y_test, predictions)\n",
    "MSE = mean_squared_error(y_test, predictions, squared=True)\n",
    "RMSE = mean_squared_error(y_test, predictions, squared=False)"
   ]
  },
  {
   "cell_type": "code",
   "execution_count": 22,
   "id": "03d2af16",
   "metadata": {},
   "outputs": [
    {
     "name": "stdout",
     "output_type": "stream",
     "text": [
      "R2 = 0.8295799539292135 MAE = 387.8211089650025 MSE = 183016.9317741342 RMSE = 427.8047823179799\n"
     ]
    }
   ],
   "source": [
    "print('R2 =',R2, 'MAE =', MAE, 'MSE =', MSE, 'RMSE =', RMSE)"
   ]
  },
  {
   "cell_type": "code",
   "execution_count": 23,
   "id": "0a42cd56",
   "metadata": {},
   "outputs": [],
   "source": [
    "import math\n",
    "\n",
    "results = pd.DataFrame()\n",
    "results['true'] = inv_boxcox(y_test, _ci['total_claim_amount'])\n",
    "results['pred'] = predictions\n",
    "results['resid'] = results.apply(lambda x: abs(x['true'] - x['pred']), axis=1)\n",
    "results=results.sort_values('resid', ascending=False)"
   ]
  },
  {
   "cell_type": "code",
   "execution_count": 24,
   "id": "57409410",
   "metadata": {},
   "outputs": [
    {
     "data": {
      "text/html": [
       "<div>\n",
       "<style scoped>\n",
       "    .dataframe tbody tr th:only-of-type {\n",
       "        vertical-align: middle;\n",
       "    }\n",
       "\n",
       "    .dataframe tbody tr th {\n",
       "        vertical-align: top;\n",
       "    }\n",
       "\n",
       "    .dataframe thead th {\n",
       "        text-align: right;\n",
       "    }\n",
       "</style>\n",
       "<table border=\"1\" class=\"dataframe\">\n",
       "  <thead>\n",
       "    <tr style=\"text-align: right;\">\n",
       "      <th></th>\n",
       "      <th>true</th>\n",
       "      <th>pred</th>\n",
       "      <th>resid</th>\n",
       "    </tr>\n",
       "  </thead>\n",
       "  <tbody>\n",
       "    <tr>\n",
       "      <th>2035</th>\n",
       "      <td>1101.054320</td>\n",
       "      <td>481.364332</td>\n",
       "      <td>619.689988</td>\n",
       "    </tr>\n",
       "    <tr>\n",
       "      <th>2008</th>\n",
       "      <td>1138.255325</td>\n",
       "      <td>592.516345</td>\n",
       "      <td>545.738980</td>\n",
       "    </tr>\n",
       "    <tr>\n",
       "      <th>6813</th>\n",
       "      <td>1106.913309</td>\n",
       "      <td>572.181067</td>\n",
       "      <td>534.732242</td>\n",
       "    </tr>\n",
       "    <tr>\n",
       "      <th>7437</th>\n",
       "      <td>1134.960471</td>\n",
       "      <td>637.186971</td>\n",
       "      <td>497.773500</td>\n",
       "    </tr>\n",
       "    <tr>\n",
       "      <th>7102</th>\n",
       "      <td>1123.212014</td>\n",
       "      <td>629.259694</td>\n",
       "      <td>493.952320</td>\n",
       "    </tr>\n",
       "    <tr>\n",
       "      <th>...</th>\n",
       "      <td>...</td>\n",
       "      <td>...</td>\n",
       "      <td>...</td>\n",
       "    </tr>\n",
       "    <tr>\n",
       "      <th>4935</th>\n",
       "      <td>333.696228</td>\n",
       "      <td>333.849255</td>\n",
       "      <td>0.153027</td>\n",
       "    </tr>\n",
       "    <tr>\n",
       "      <th>3044</th>\n",
       "      <td>457.593764</td>\n",
       "      <td>457.727880</td>\n",
       "      <td>0.134116</td>\n",
       "    </tr>\n",
       "    <tr>\n",
       "      <th>4485</th>\n",
       "      <td>459.785009</td>\n",
       "      <td>459.832529</td>\n",
       "      <td>0.047520</td>\n",
       "    </tr>\n",
       "    <tr>\n",
       "      <th>5342</th>\n",
       "      <td>558.835255</td>\n",
       "      <td>558.881125</td>\n",
       "      <td>0.045870</td>\n",
       "    </tr>\n",
       "    <tr>\n",
       "      <th>48</th>\n",
       "      <td>529.624084</td>\n",
       "      <td>529.625866</td>\n",
       "      <td>0.001782</td>\n",
       "    </tr>\n",
       "  </tbody>\n",
       "</table>\n",
       "<p>2561 rows × 3 columns</p>\n",
       "</div>"
      ],
      "text/plain": [
       "             true        pred       resid\n",
       "2035  1101.054320  481.364332  619.689988\n",
       "2008  1138.255325  592.516345  545.738980\n",
       "6813  1106.913309  572.181067  534.732242\n",
       "7437  1134.960471  637.186971  497.773500\n",
       "7102  1123.212014  629.259694  493.952320\n",
       "...           ...         ...         ...\n",
       "4935   333.696228  333.849255    0.153027\n",
       "3044   457.593764  457.727880    0.134116\n",
       "4485   459.785009  459.832529    0.047520\n",
       "5342   558.835255  558.881125    0.045870\n",
       "48     529.624084  529.625866    0.001782\n",
       "\n",
       "[2561 rows x 3 columns]"
      ]
     },
     "metadata": {},
     "output_type": "display_data"
    },
    {
     "data": {
      "image/png": "[encoded data removed]",
      "text/plain": [
       "<Figure size 432x288 with 1 Axes>"
      ]
     },
     "metadata": {
      "needs_background": "light"
     },
     "output_type": "display_data"
    }
   ],
   "source": [
    "display(results)\n",
    "sns.boxplot(x=results['resid'])\n",
    "plt.show()"
   ]
  },
  {
   "cell_type": "code",
   "execution_count": 25,
   "id": "8a3051ee",
   "metadata": {},
   "outputs": [
    {
     "name": "stderr",
     "output_type": "stream",
     "text": [
      "/opt/anaconda3/lib/python3.8/site-packages/seaborn/_decorators.py:36: FutureWarning: Pass the following variables as keyword args: x, y. From version 0.12, the only valid positional argument will be `data`, and passing other arguments without an explicit keyword will result in an error or misinterpretation.\n",
      "  warnings.warn(\n"
     ]
    },
    {
     "data": {
      "text/plain": [
       "<AxesSubplot:xlabel='true', ylabel='pred'>"
      ]
     },
     "execution_count": 25,
     "metadata": {},
     "output_type": "execute_result"
    },
    {
     "data": {
      "image/png": "[encoded data removed]",
      "text/plain": [
       "<Figure size 432x288 with 1 Axes>"
      ]
     },
     "metadata": {
      "needs_background": "light"
     },
     "output_type": "display_data"
    }
   ],
   "source": [
    "sns.regplot(results['true'], results['pred'])"
   ]
  },
  {
   "cell_type": "markdown",
   "id": "1bf84e58",
   "metadata": {},
   "source": [
    "# Improving the model"
   ]
  },
  {
   "cell_type": "markdown",
   "id": "e90cd8c2",
   "metadata": {},
   "source": [
    "## Check multicollinearity with VIF"
   ]
  },
  {
   "cell_type": "code",
   "execution_count": 26,
   "id": "dd132bc4",
   "metadata": {},
   "outputs": [
    {
     "name": "stderr",
     "output_type": "stream",
     "text": [
      "/opt/anaconda3/lib/python3.8/site-packages/statsmodels/stats/outliers_influence.py:193: RuntimeWarning: divide by zero encountered in double_scalars\n",
      "  vif = 1. / (1. - r_squared_i)\n"
     ]
    },
    {
     "data": {
      "text/html": [
       "<div>\n",
       "<style scoped>\n",
       "    .dataframe tbody tr th:only-of-type {\n",
       "        vertical-align: middle;\n",
       "    }\n",
       "\n",
       "    .dataframe tbody tr th {\n",
       "        vertical-align: top;\n",
       "    }\n",
       "\n",
       "    .dataframe thead th {\n",
       "        text-align: right;\n",
       "    }\n",
       "</style>\n",
       "<table border=\"1\" class=\"dataframe\">\n",
       "  <thead>\n",
       "    <tr style=\"text-align: right;\">\n",
       "      <th></th>\n",
       "      <th>feature</th>\n",
       "      <th>VIF</th>\n",
       "    </tr>\n",
       "  </thead>\n",
       "  <tbody>\n",
       "    <tr>\n",
       "      <th>0</th>\n",
       "      <td>customer_lifetime_value</td>\n",
       "      <td>15025.511098</td>\n",
       "    </tr>\n",
       "    <tr>\n",
       "      <th>1</th>\n",
       "      <td>income</td>\n",
       "      <td>25.092253</td>\n",
       "    </tr>\n",
       "    <tr>\n",
       "      <th>2</th>\n",
       "      <td>monthly_premium_auto</td>\n",
       "      <td>14853.767023</td>\n",
       "    </tr>\n",
       "    <tr>\n",
       "      <th>4</th>\n",
       "      <td>months_since_policy_inception</td>\n",
       "      <td>5.484248</td>\n",
       "    </tr>\n",
       "    <tr>\n",
       "      <th>5</th>\n",
       "      <td>number_of_open_complaints</td>\n",
       "      <td>6.231231</td>\n",
       "    </tr>\n",
       "    <tr>\n",
       "      <th>18</th>\n",
       "      <td>x4_Employed</td>\n",
       "      <td>18.637743</td>\n",
       "    </tr>\n",
       "    <tr>\n",
       "      <th>21</th>\n",
       "      <td>x4_Unemployed</td>\n",
       "      <td>8.154130</td>\n",
       "    </tr>\n",
       "    <tr>\n",
       "      <th>23</th>\n",
       "      <td>x6_Suburban</td>\n",
       "      <td>6.048135</td>\n",
       "    </tr>\n",
       "    <tr>\n",
       "      <th>25</th>\n",
       "      <td>x7_Married</td>\n",
       "      <td>5.163262</td>\n",
       "    </tr>\n",
       "    <tr>\n",
       "      <th>48</th>\n",
       "      <td>x13_Medsize</td>\n",
       "      <td>7.982537</td>\n",
       "    </tr>\n",
       "  </tbody>\n",
       "</table>\n",
       "</div>"
      ],
      "text/plain": [
       "                          feature           VIF\n",
       "0         customer_lifetime_value  15025.511098\n",
       "1                          income     25.092253\n",
       "2            monthly_premium_auto  14853.767023\n",
       "4   months_since_policy_inception      5.484248\n",
       "5       number_of_open_complaints      6.231231\n",
       "18                    x4_Employed     18.637743\n",
       "21                  x4_Unemployed      8.154130\n",
       "23                    x6_Suburban      6.048135\n",
       "25                     x7_Married      5.163262\n",
       "48                    x13_Medsize      7.982537"
      ]
     },
     "metadata": {},
     "output_type": "display_data"
    },
    {
     "data": {
      "image/png": "[encoded data removed]",
      "text/plain": [
       "<Figure size 432x288 with 1 Axes>"
      ]
     },
     "metadata": {
      "needs_background": "light"
     },
     "output_type": "display_data"
    }
   ],
   "source": [
    "from statsmodels.stats.outliers_influence import variance_inflation_factor\n",
    "\n",
    "df_ready=pd.concat([y,X_ready],axis=1)\n",
    "#df_ready\n",
    "\n",
    "#Independent variables set\n",
    "ind_var=X_ready\n",
    "\n",
    "#VIF dataframe\n",
    "vif_data = pd.DataFrame()\n",
    "vif_data['feature'] = ind_var.columns\n",
    "\n",
    "#calculating VIF for each feature\n",
    "vif_data['VIF'] = [variance_inflation_factor(ind_var.values, i) for i in range(len(ind_var.columns))]\n",
    "\n",
    "vif_data['VIF'].replace([np.inf, -np.inf], np.nan, inplace=True)\n",
    "\n",
    "vif_data_filtered=vif_data[vif_data['VIF']>5]\n",
    "display(vif_data_filtered)\n",
    "\n",
    "sns.barplot(x=vif_data_filtered['feature'], y=vif_data_filtered['VIF']).set_yscale(\"log\")\n",
    "plt.show()"
   ]
  },
  {
   "cell_type": "markdown",
   "id": "0aca9454",
   "metadata": {},
   "source": [
    "Decided to drop the two features with extremely high multicollinearity values: customer_lifetime_value and monthly_premium_auto. Then, try fitting the model again."
   ]
  },
  {
   "cell_type": "markdown",
   "id": "33d3c48a",
   "metadata": {},
   "source": [
    "## Second model fitting"
   ]
  },
  {
   "cell_type": "code",
   "execution_count": 27,
   "id": "29254d56",
   "metadata": {},
   "outputs": [],
   "source": [
    "X_ready_2=X_ready.drop(['customer_lifetime_value', 'monthly_premium_auto'], axis=1)"
   ]
  },
  {
   "cell_type": "code",
   "execution_count": 28,
   "id": "4b400788",
   "metadata": {},
   "outputs": [
    {
     "data": {
      "text/plain": [
       "LinearRegression()"
      ]
     },
     "execution_count": 28,
     "metadata": {},
     "output_type": "execute_result"
    }
   ],
   "source": [
    "X_train_2, X_test_2, y_train_2, y_test_2 = train_test_split(X_ready_2, y, test_size=0.3, random_state=42)\n",
    "\n",
    "model = LinearRegression()\n",
    "model.fit(X_train_2, y_train_2)"
   ]
  },
  {
   "cell_type": "code",
   "execution_count": 29,
   "id": "174cee50",
   "metadata": {},
   "outputs": [],
   "source": [
    "predictions_norm_2 = model.predict(X_test_2)\n",
    "R2_2 = r2_score(y_test_2, predictions_norm_2)\n",
    "\n",
    "from scipy.special import inv_boxcox\n",
    "\n",
    "predictions_2 = inv_boxcox(predictions_norm_2, _ci['total_claim_amount'])\n",
    "\n",
    "MAE_2 = mean_absolute_error(y_test_2, predictions_2)\n",
    "MSE_2 = mean_squared_error(y_test_2, predictions_2, squared=True)\n",
    "RMSE_2 = mean_squared_error(y_test_2, predictions_2, squared=False)"
   ]
  },
  {
   "cell_type": "code",
   "execution_count": 30,
   "id": "b5208223",
   "metadata": {},
   "outputs": [
    {
     "data": {
      "text/html": [
       "<div>\n",
       "<style scoped>\n",
       "    .dataframe tbody tr th:only-of-type {\n",
       "        vertical-align: middle;\n",
       "    }\n",
       "\n",
       "    .dataframe tbody tr th {\n",
       "        vertical-align: top;\n",
       "    }\n",
       "\n",
       "    .dataframe thead th {\n",
       "        text-align: right;\n",
       "    }\n",
       "</style>\n",
       "<table border=\"1\" class=\"dataframe\">\n",
       "  <thead>\n",
       "    <tr style=\"text-align: right;\">\n",
       "      <th></th>\n",
       "      <th>parameter</th>\n",
       "      <th>model_1</th>\n",
       "      <th>model_2</th>\n",
       "    </tr>\n",
       "  </thead>\n",
       "  <tbody>\n",
       "    <tr>\n",
       "      <th>0</th>\n",
       "      <td>R2</td>\n",
       "      <td>0.829580</td>\n",
       "      <td>0.821790</td>\n",
       "    </tr>\n",
       "    <tr>\n",
       "      <th>1</th>\n",
       "      <td>MAE</td>\n",
       "      <td>387.821109</td>\n",
       "      <td>387.381171</td>\n",
       "    </tr>\n",
       "    <tr>\n",
       "      <th>2</th>\n",
       "      <td>MSE</td>\n",
       "      <td>183016.931774</td>\n",
       "      <td>182939.373939</td>\n",
       "    </tr>\n",
       "    <tr>\n",
       "      <th>3</th>\n",
       "      <td>RMSE</td>\n",
       "      <td>427.804782</td>\n",
       "      <td>427.714126</td>\n",
       "    </tr>\n",
       "  </tbody>\n",
       "</table>\n",
       "</div>"
      ],
      "text/plain": [
       "  parameter        model_1        model_2\n",
       "0        R2       0.829580       0.821790\n",
       "1       MAE     387.821109     387.381171\n",
       "2       MSE  183016.931774  182939.373939\n",
       "3      RMSE     427.804782     427.714126"
      ]
     },
     "execution_count": 30,
     "metadata": {},
     "output_type": "execute_result"
    }
   ],
   "source": [
    "dict_ = {'parameter':['R2','MAE','MSE','RMSE'],'model_1': [R2,MAE,MSE,RMSE], 'model_2': [R2_2,MAE_2,MSE_2,RMSE_2]}\n",
    "evaluation = pd.DataFrame(data=dict_)\n",
    "evaluation"
   ]
  },
  {
   "cell_type": "markdown",
   "id": "40a491f4",
   "metadata": {},
   "source": [
    "Eliminating those features with high multicolinearity did not have any significant effect on the metrics of the model."
   ]
  },
  {
   "cell_type": "code",
   "execution_count": 31,
   "id": "67afe7a5",
   "metadata": {},
   "outputs": [
    {
     "data": {
      "text/html": [
       "<div>\n",
       "<style scoped>\n",
       "    .dataframe tbody tr th:only-of-type {\n",
       "        vertical-align: middle;\n",
       "    }\n",
       "\n",
       "    .dataframe tbody tr th {\n",
       "        vertical-align: top;\n",
       "    }\n",
       "\n",
       "    .dataframe thead th {\n",
       "        text-align: right;\n",
       "    }\n",
       "</style>\n",
       "<table border=\"1\" class=\"dataframe\">\n",
       "  <thead>\n",
       "    <tr style=\"text-align: right;\">\n",
       "      <th></th>\n",
       "      <th>true</th>\n",
       "      <th>pred</th>\n",
       "      <th>resid</th>\n",
       "    </tr>\n",
       "  </thead>\n",
       "  <tbody>\n",
       "    <tr>\n",
       "      <th>2035</th>\n",
       "      <td>1101.054320</td>\n",
       "      <td>459.675191</td>\n",
       "      <td>641.379129</td>\n",
       "    </tr>\n",
       "    <tr>\n",
       "      <th>2008</th>\n",
       "      <td>1138.255325</td>\n",
       "      <td>567.576555</td>\n",
       "      <td>570.678770</td>\n",
       "    </tr>\n",
       "    <tr>\n",
       "      <th>6813</th>\n",
       "      <td>1106.913309</td>\n",
       "      <td>582.401509</td>\n",
       "      <td>524.511800</td>\n",
       "    </tr>\n",
       "    <tr>\n",
       "      <th>5365</th>\n",
       "      <td>1107.145019</td>\n",
       "      <td>601.173238</td>\n",
       "      <td>505.971781</td>\n",
       "    </tr>\n",
       "    <tr>\n",
       "      <th>7102</th>\n",
       "      <td>1123.212014</td>\n",
       "      <td>623.197801</td>\n",
       "      <td>500.014213</td>\n",
       "    </tr>\n",
       "    <tr>\n",
       "      <th>...</th>\n",
       "      <td>...</td>\n",
       "      <td>...</td>\n",
       "      <td>...</td>\n",
       "    </tr>\n",
       "    <tr>\n",
       "      <th>8813</th>\n",
       "      <td>99.509191</td>\n",
       "      <td>99.692707</td>\n",
       "      <td>0.183516</td>\n",
       "    </tr>\n",
       "    <tr>\n",
       "      <th>4241</th>\n",
       "      <td>283.849464</td>\n",
       "      <td>283.744067</td>\n",
       "      <td>0.105397</td>\n",
       "    </tr>\n",
       "    <tr>\n",
       "      <th>3330</th>\n",
       "      <td>355.200000</td>\n",
       "      <td>355.288389</td>\n",
       "      <td>0.088389</td>\n",
       "    </tr>\n",
       "    <tr>\n",
       "      <th>580</th>\n",
       "      <td>238.005074</td>\n",
       "      <td>237.931855</td>\n",
       "      <td>0.073219</td>\n",
       "    </tr>\n",
       "    <tr>\n",
       "      <th>6881</th>\n",
       "      <td>555.457674</td>\n",
       "      <td>555.444881</td>\n",
       "      <td>0.012793</td>\n",
       "    </tr>\n",
       "  </tbody>\n",
       "</table>\n",
       "<p>2561 rows × 3 columns</p>\n",
       "</div>"
      ],
      "text/plain": [
       "             true        pred       resid\n",
       "2035  1101.054320  459.675191  641.379129\n",
       "2008  1138.255325  567.576555  570.678770\n",
       "6813  1106.913309  582.401509  524.511800\n",
       "5365  1107.145019  601.173238  505.971781\n",
       "7102  1123.212014  623.197801  500.014213\n",
       "...           ...         ...         ...\n",
       "8813    99.509191   99.692707    0.183516\n",
       "4241   283.849464  283.744067    0.105397\n",
       "3330   355.200000  355.288389    0.088389\n",
       "580    238.005074  237.931855    0.073219\n",
       "6881   555.457674  555.444881    0.012793\n",
       "\n",
       "[2561 rows x 3 columns]"
      ]
     },
     "metadata": {},
     "output_type": "display_data"
    },
    {
     "data": {
      "image/png": "[encoded data removed]",
      "text/plain": [
       "<Figure size 432x288 with 1 Axes>"
      ]
     },
     "metadata": {
      "needs_background": "light"
     },
     "output_type": "display_data"
    }
   ],
   "source": [
    "results_2 = pd.DataFrame()\n",
    "results_2['true'] = inv_boxcox(y_test_2, _ci['total_claim_amount'])\n",
    "results_2['pred'] = predictions_2\n",
    "results_2['resid'] = results_2.apply(lambda x: abs(x['true'] - x['pred']), axis=1)\n",
    "results_2=results_2.sort_values('resid', ascending=False)\n",
    "\n",
    "display(results_2)\n",
    "sns.boxplot(x=results_2['resid'])\n",
    "plt.show()"
   ]
  },
  {
   "cell_type": "markdown",
   "id": "750572d9",
   "metadata": {},
   "source": [
    "# 3rd Model: MinMaxScaler Normalization"
   ]
  },
  {
   "cell_type": "markdown",
   "id": "329e7b0a",
   "metadata": {},
   "source": [
    "### Normalization"
   ]
  },
  {
   "cell_type": "code",
   "execution_count": 42,
   "id": "e0cd92be",
   "metadata": {},
   "outputs": [
    {
     "data": {
      "text/html": [
       "<div>\n",
       "<style scoped>\n",
       "    .dataframe tbody tr th:only-of-type {\n",
       "        vertical-align: middle;\n",
       "    }\n",
       "\n",
       "    .dataframe tbody tr th {\n",
       "        vertical-align: top;\n",
       "    }\n",
       "\n",
       "    .dataframe thead th {\n",
       "        text-align: right;\n",
       "    }\n",
       "</style>\n",
       "<table border=\"1\" class=\"dataframe\">\n",
       "  <thead>\n",
       "    <tr style=\"text-align: right;\">\n",
       "      <th></th>\n",
       "      <th>customer_lifetime_value</th>\n",
       "      <th>income</th>\n",
       "      <th>monthly_premium_auto</th>\n",
       "      <th>months_since_last_claim</th>\n",
       "      <th>months_since_policy_inception</th>\n",
       "      <th>number_of_open_complaints</th>\n",
       "      <th>number_of_policies</th>\n",
       "      <th>total_claim_amount</th>\n",
       "    </tr>\n",
       "  </thead>\n",
       "  <tbody>\n",
       "    <tr>\n",
       "      <th>0</th>\n",
       "      <td>0.167033</td>\n",
       "      <td>0.608692</td>\n",
       "      <td>0.182563</td>\n",
       "      <td>0.942696</td>\n",
       "      <td>0.084267</td>\n",
       "      <td>0.364197</td>\n",
       "      <td>0.000000</td>\n",
       "      <td>0.488860</td>\n",
       "    </tr>\n",
       "    <tr>\n",
       "      <th>1</th>\n",
       "      <td>0.497030</td>\n",
       "      <td>0.548600</td>\n",
       "      <td>0.519281</td>\n",
       "      <td>0.503437</td>\n",
       "      <td>0.524397</td>\n",
       "      <td>0.364197</td>\n",
       "      <td>0.965338</td>\n",
       "      <td>0.989306</td>\n",
       "    </tr>\n",
       "    <tr>\n",
       "      <th>2</th>\n",
       "      <td>0.663983</td>\n",
       "      <td>0.530643</td>\n",
       "      <td>0.627667</td>\n",
       "      <td>0.636881</td>\n",
       "      <td>0.485551</td>\n",
       "      <td>0.364197</td>\n",
       "      <td>0.411608</td>\n",
       "      <td>0.639841</td>\n",
       "    </tr>\n",
       "    <tr>\n",
       "      <th>3</th>\n",
       "      <td>0.524149</td>\n",
       "      <td>0.548600</td>\n",
       "      <td>0.614319</td>\n",
       "      <td>0.636881</td>\n",
       "      <td>0.730478</td>\n",
       "      <td>0.364197</td>\n",
       "      <td>0.924066</td>\n",
       "      <td>0.611762</td>\n",
       "    </tr>\n",
       "    <tr>\n",
       "      <th>4</th>\n",
       "      <td>0.174501</td>\n",
       "      <td>0.476779</td>\n",
       "      <td>0.255738</td>\n",
       "      <td>0.474231</td>\n",
       "      <td>0.543420</td>\n",
       "      <td>0.364197</td>\n",
       "      <td>0.000000</td>\n",
       "      <td>0.199698</td>\n",
       "    </tr>\n",
       "    <tr>\n",
       "      <th>...</th>\n",
       "      <td>...</td>\n",
       "      <td>...</td>\n",
       "      <td>...</td>\n",
       "      <td>...</td>\n",
       "      <td>...</td>\n",
       "      <td>...</td>\n",
       "      <td>...</td>\n",
       "      <td>...</td>\n",
       "    </tr>\n",
       "    <tr>\n",
       "      <th>9129</th>\n",
       "      <td>0.795739</td>\n",
       "      <td>0.759416</td>\n",
       "      <td>0.255738</td>\n",
       "      <td>0.636881</td>\n",
       "      <td>0.923960</td>\n",
       "      <td>0.364197</td>\n",
       "      <td>0.411608</td>\n",
       "      <td>0.286148</td>\n",
       "    </tr>\n",
       "    <tr>\n",
       "      <th>9130</th>\n",
       "      <td>0.213478</td>\n",
       "      <td>0.195322</td>\n",
       "      <td>0.348706</td>\n",
       "      <td>0.531690</td>\n",
       "      <td>0.382806</td>\n",
       "      <td>0.364197</td>\n",
       "      <td>0.000000</td>\n",
       "      <td>0.483650</td>\n",
       "    </tr>\n",
       "    <tr>\n",
       "      <th>9131</th>\n",
       "      <td>0.543125</td>\n",
       "      <td>0.548600</td>\n",
       "      <td>0.425823</td>\n",
       "      <td>0.379595</td>\n",
       "      <td>0.475660</td>\n",
       "      <td>0.660968</td>\n",
       "      <td>0.411608</td>\n",
       "      <td>0.794167</td>\n",
       "    </tr>\n",
       "    <tr>\n",
       "      <th>9132</th>\n",
       "      <td>0.519450</td>\n",
       "      <td>0.200276</td>\n",
       "      <td>0.537159</td>\n",
       "      <td>0.981143</td>\n",
       "      <td>0.046571</td>\n",
       "      <td>0.364197</td>\n",
       "      <td>0.605547</td>\n",
       "      <td>0.728965</td>\n",
       "    </tr>\n",
       "    <tr>\n",
       "      <th>9133</th>\n",
       "      <td>0.143300</td>\n",
       "      <td>0.548600</td>\n",
       "      <td>0.319689</td>\n",
       "      <td>0.132312</td>\n",
       "      <td>0.931670</td>\n",
       "      <td>0.364197</td>\n",
       "      <td>0.000000</td>\n",
       "      <td>0.474641</td>\n",
       "    </tr>\n",
       "  </tbody>\n",
       "</table>\n",
       "<p>8534 rows × 8 columns</p>\n",
       "</div>"
      ],
      "text/plain": [
       "      customer_lifetime_value    income  monthly_premium_auto  \\\n",
       "0                    0.167033  0.608692              0.182563   \n",
       "1                    0.497030  0.548600              0.519281   \n",
       "2                    0.663983  0.530643              0.627667   \n",
       "3                    0.524149  0.548600              0.614319   \n",
       "4                    0.174501  0.476779              0.255738   \n",
       "...                       ...       ...                   ...   \n",
       "9129                 0.795739  0.759416              0.255738   \n",
       "9130                 0.213478  0.195322              0.348706   \n",
       "9131                 0.543125  0.548600              0.425823   \n",
       "9132                 0.519450  0.200276              0.537159   \n",
       "9133                 0.143300  0.548600              0.319689   \n",
       "\n",
       "      months_since_last_claim  months_since_policy_inception  \\\n",
       "0                    0.942696                       0.084267   \n",
       "1                    0.503437                       0.524397   \n",
       "2                    0.636881                       0.485551   \n",
       "3                    0.636881                       0.730478   \n",
       "4                    0.474231                       0.543420   \n",
       "...                       ...                            ...   \n",
       "9129                 0.636881                       0.923960   \n",
       "9130                 0.531690                       0.382806   \n",
       "9131                 0.379595                       0.475660   \n",
       "9132                 0.981143                       0.046571   \n",
       "9133                 0.132312                       0.931670   \n",
       "\n",
       "      number_of_open_complaints  number_of_policies  total_claim_amount  \n",
       "0                      0.364197            0.000000            0.488860  \n",
       "1                      0.364197            0.965338            0.989306  \n",
       "2                      0.364197            0.411608            0.639841  \n",
       "3                      0.364197            0.924066            0.611762  \n",
       "4                      0.364197            0.000000            0.199698  \n",
       "...                         ...                 ...                 ...  \n",
       "9129                   0.364197            0.411608            0.286148  \n",
       "9130                   0.364197            0.000000            0.483650  \n",
       "9131                   0.660968            0.411608            0.794167  \n",
       "9132                   0.364197            0.605547            0.728965  \n",
       "9133                   0.364197            0.000000            0.474641  \n",
       "\n",
       "[8534 rows x 8 columns]"
      ]
     },
     "execution_count": 42,
     "metadata": {},
     "output_type": "execute_result"
    }
   ],
   "source": [
    "## VERY IMPORTANT: MinMaxScaler only works with numerical values.\n",
    "## For the inversion of MinMaxScaler, the whole numerical df is necessary\n",
    "from sklearn.preprocessing import MinMaxScaler\n",
    "scaler = MinMaxScaler()\n",
    "df_to_scale=df.select_dtypes(include = np.number)\n",
    "MinMax_array=scaler.fit_transform(df_to_scale)\n",
    "df_MinMax=pd.DataFrame(data=MinMax_array, index=df.index, columns=df_to_scale.columns)\n",
    "df_MinMax"
   ]
  },
  {
   "cell_type": "markdown",
   "id": "77545a90",
   "metadata": {},
   "source": [
    "### X/y split, numerical and categorical features"
   ]
  },
  {
   "cell_type": "code",
   "execution_count": 51,
   "id": "7320f516",
   "metadata": {},
   "outputs": [
    {
     "name": "stderr",
     "output_type": "stream",
     "text": [
      "<ipython-input-51-6a79a78d58c8>:4: DeprecationWarning: `np.object` is a deprecated alias for the builtin `object`. To silence this warning, use `object` by itself. Doing this will not modify any behavior and is safe. \n",
      "Deprecated in NumPy 1.20; for more details and guidance: https://numpy.org/devdocs/release/1.20.0-notes.html#deprecations\n",
      "  X_cat_mms = df.select_dtypes(include = np.object).drop(['customer'], axis=1)\n"
     ]
    },
    {
     "data": {
      "text/plain": [
       "0    0.488860\n",
       "1    0.989306\n",
       "2    0.639841\n",
       "3    0.611762\n",
       "4    0.199698\n",
       "Name: total_claim_amount, dtype: float64"
      ]
     },
     "metadata": {},
     "output_type": "display_data"
    },
    {
     "data": {
      "text/html": [
       "<div>\n",
       "<style scoped>\n",
       "    .dataframe tbody tr th:only-of-type {\n",
       "        vertical-align: middle;\n",
       "    }\n",
       "\n",
       "    .dataframe tbody tr th {\n",
       "        vertical-align: top;\n",
       "    }\n",
       "\n",
       "    .dataframe thead th {\n",
       "        text-align: right;\n",
       "    }\n",
       "</style>\n",
       "<table border=\"1\" class=\"dataframe\">\n",
       "  <thead>\n",
       "    <tr style=\"text-align: right;\">\n",
       "      <th></th>\n",
       "      <th>customer_lifetime_value</th>\n",
       "      <th>income</th>\n",
       "      <th>monthly_premium_auto</th>\n",
       "      <th>months_since_last_claim</th>\n",
       "      <th>months_since_policy_inception</th>\n",
       "      <th>number_of_open_complaints</th>\n",
       "      <th>number_of_policies</th>\n",
       "    </tr>\n",
       "  </thead>\n",
       "  <tbody>\n",
       "    <tr>\n",
       "      <th>0</th>\n",
       "      <td>0.167033</td>\n",
       "      <td>0.608692</td>\n",
       "      <td>0.182563</td>\n",
       "      <td>0.942696</td>\n",
       "      <td>0.084267</td>\n",
       "      <td>0.364197</td>\n",
       "      <td>0.000000</td>\n",
       "    </tr>\n",
       "    <tr>\n",
       "      <th>1</th>\n",
       "      <td>0.497030</td>\n",
       "      <td>0.548600</td>\n",
       "      <td>0.519281</td>\n",
       "      <td>0.503437</td>\n",
       "      <td>0.524397</td>\n",
       "      <td>0.364197</td>\n",
       "      <td>0.965338</td>\n",
       "    </tr>\n",
       "    <tr>\n",
       "      <th>2</th>\n",
       "      <td>0.663983</td>\n",
       "      <td>0.530643</td>\n",
       "      <td>0.627667</td>\n",
       "      <td>0.636881</td>\n",
       "      <td>0.485551</td>\n",
       "      <td>0.364197</td>\n",
       "      <td>0.411608</td>\n",
       "    </tr>\n",
       "    <tr>\n",
       "      <th>3</th>\n",
       "      <td>0.524149</td>\n",
       "      <td>0.548600</td>\n",
       "      <td>0.614319</td>\n",
       "      <td>0.636881</td>\n",
       "      <td>0.730478</td>\n",
       "      <td>0.364197</td>\n",
       "      <td>0.924066</td>\n",
       "    </tr>\n",
       "    <tr>\n",
       "      <th>4</th>\n",
       "      <td>0.174501</td>\n",
       "      <td>0.476779</td>\n",
       "      <td>0.255738</td>\n",
       "      <td>0.474231</td>\n",
       "      <td>0.543420</td>\n",
       "      <td>0.364197</td>\n",
       "      <td>0.000000</td>\n",
       "    </tr>\n",
       "  </tbody>\n",
       "</table>\n",
       "</div>"
      ],
      "text/plain": [
       "   customer_lifetime_value    income  monthly_premium_auto  \\\n",
       "0                 0.167033  0.608692              0.182563   \n",
       "1                 0.497030  0.548600              0.519281   \n",
       "2                 0.663983  0.530643              0.627667   \n",
       "3                 0.524149  0.548600              0.614319   \n",
       "4                 0.174501  0.476779              0.255738   \n",
       "\n",
       "   months_since_last_claim  months_since_policy_inception  \\\n",
       "0                 0.942696                       0.084267   \n",
       "1                 0.503437                       0.524397   \n",
       "2                 0.636881                       0.485551   \n",
       "3                 0.636881                       0.730478   \n",
       "4                 0.474231                       0.543420   \n",
       "\n",
       "   number_of_open_complaints  number_of_policies  \n",
       "0                   0.364197            0.000000  \n",
       "1                   0.364197            0.965338  \n",
       "2                   0.364197            0.411608  \n",
       "3                   0.364197            0.924066  \n",
       "4                   0.364197            0.000000  "
      ]
     },
     "metadata": {},
     "output_type": "display_data"
    },
    {
     "data": {
      "text/html": [
       "<div>\n",
       "<style scoped>\n",
       "    .dataframe tbody tr th:only-of-type {\n",
       "        vertical-align: middle;\n",
       "    }\n",
       "\n",
       "    .dataframe tbody tr th {\n",
       "        vertical-align: top;\n",
       "    }\n",
       "\n",
       "    .dataframe thead th {\n",
       "        text-align: right;\n",
       "    }\n",
       "</style>\n",
       "<table border=\"1\" class=\"dataframe\">\n",
       "  <thead>\n",
       "    <tr style=\"text-align: right;\">\n",
       "      <th></th>\n",
       "      <th>state</th>\n",
       "      <th>response</th>\n",
       "      <th>coverage</th>\n",
       "      <th>education</th>\n",
       "      <th>employmentstatus</th>\n",
       "      <th>gender</th>\n",
       "      <th>location_code</th>\n",
       "      <th>marital_status</th>\n",
       "      <th>policy_type</th>\n",
       "      <th>policy</th>\n",
       "      <th>renew_offer_type</th>\n",
       "      <th>sales_channel</th>\n",
       "      <th>vehicle_class</th>\n",
       "      <th>vehicle_size</th>\n",
       "    </tr>\n",
       "  </thead>\n",
       "  <tbody>\n",
       "    <tr>\n",
       "      <th>0</th>\n",
       "      <td>Washington</td>\n",
       "      <td>No</td>\n",
       "      <td>Basic</td>\n",
       "      <td>Bachelor</td>\n",
       "      <td>Employed</td>\n",
       "      <td>F</td>\n",
       "      <td>Suburban</td>\n",
       "      <td>Married</td>\n",
       "      <td>Corporate Auto</td>\n",
       "      <td>Corporate L3</td>\n",
       "      <td>Offer1</td>\n",
       "      <td>Agent</td>\n",
       "      <td>Two-Door Car</td>\n",
       "      <td>Medsize</td>\n",
       "    </tr>\n",
       "    <tr>\n",
       "      <th>1</th>\n",
       "      <td>Arizona</td>\n",
       "      <td>No</td>\n",
       "      <td>Extended</td>\n",
       "      <td>Bachelor</td>\n",
       "      <td>Unemployed</td>\n",
       "      <td>F</td>\n",
       "      <td>Suburban</td>\n",
       "      <td>Single</td>\n",
       "      <td>Personal Auto</td>\n",
       "      <td>Personal L3</td>\n",
       "      <td>Offer3</td>\n",
       "      <td>Agent</td>\n",
       "      <td>Four-Door Car</td>\n",
       "      <td>Medsize</td>\n",
       "    </tr>\n",
       "    <tr>\n",
       "      <th>2</th>\n",
       "      <td>Nevada</td>\n",
       "      <td>No</td>\n",
       "      <td>Premium</td>\n",
       "      <td>Bachelor</td>\n",
       "      <td>Employed</td>\n",
       "      <td>F</td>\n",
       "      <td>Suburban</td>\n",
       "      <td>Married</td>\n",
       "      <td>Personal Auto</td>\n",
       "      <td>Personal L3</td>\n",
       "      <td>Offer1</td>\n",
       "      <td>Agent</td>\n",
       "      <td>Two-Door Car</td>\n",
       "      <td>Medsize</td>\n",
       "    </tr>\n",
       "    <tr>\n",
       "      <th>3</th>\n",
       "      <td>California</td>\n",
       "      <td>No</td>\n",
       "      <td>Basic</td>\n",
       "      <td>Bachelor</td>\n",
       "      <td>Unemployed</td>\n",
       "      <td>M</td>\n",
       "      <td>Suburban</td>\n",
       "      <td>Married</td>\n",
       "      <td>Corporate Auto</td>\n",
       "      <td>Corporate L2</td>\n",
       "      <td>Offer1</td>\n",
       "      <td>Call Center</td>\n",
       "      <td>SUV</td>\n",
       "      <td>Medsize</td>\n",
       "    </tr>\n",
       "    <tr>\n",
       "      <th>4</th>\n",
       "      <td>Washington</td>\n",
       "      <td>No</td>\n",
       "      <td>Basic</td>\n",
       "      <td>Bachelor</td>\n",
       "      <td>Employed</td>\n",
       "      <td>M</td>\n",
       "      <td>Rural</td>\n",
       "      <td>Single</td>\n",
       "      <td>Personal Auto</td>\n",
       "      <td>Personal L1</td>\n",
       "      <td>Offer1</td>\n",
       "      <td>Agent</td>\n",
       "      <td>Four-Door Car</td>\n",
       "      <td>Medsize</td>\n",
       "    </tr>\n",
       "  </tbody>\n",
       "</table>\n",
       "</div>"
      ],
      "text/plain": [
       "        state response  coverage education employmentstatus gender  \\\n",
       "0  Washington       No     Basic  Bachelor         Employed      F   \n",
       "1     Arizona       No  Extended  Bachelor       Unemployed      F   \n",
       "2      Nevada       No   Premium  Bachelor         Employed      F   \n",
       "3  California       No     Basic  Bachelor       Unemployed      M   \n",
       "4  Washington       No     Basic  Bachelor         Employed      M   \n",
       "\n",
       "  location_code marital_status     policy_type        policy renew_offer_type  \\\n",
       "0      Suburban        Married  Corporate Auto  Corporate L3           Offer1   \n",
       "1      Suburban         Single   Personal Auto   Personal L3           Offer3   \n",
       "2      Suburban        Married   Personal Auto   Personal L3           Offer1   \n",
       "3      Suburban        Married  Corporate Auto  Corporate L2           Offer1   \n",
       "4         Rural         Single   Personal Auto   Personal L1           Offer1   \n",
       "\n",
       "  sales_channel  vehicle_class vehicle_size  \n",
       "0         Agent   Two-Door Car      Medsize  \n",
       "1         Agent  Four-Door Car      Medsize  \n",
       "2         Agent   Two-Door Car      Medsize  \n",
       "3   Call Center            SUV      Medsize  \n",
       "4         Agent  Four-Door Car      Medsize  "
      ]
     },
     "metadata": {},
     "output_type": "display_data"
    }
   ],
   "source": [
    "y_mms = df_MinMax['total_claim_amount']\n",
    "\n",
    "X_num_mms = df_MinMax.select_dtypes(include = np.number).drop(['total_claim_amount'], axis=1)#np.number includes int and float\n",
    "X_cat_mms = df.select_dtypes(include = np.object).drop(['customer'], axis=1)\n",
    "display(y_mms.head(5))\n",
    "display(X_num_mms.head(5))\n",
    "display(X_cat_mms.head(5))"
   ]
  },
  {
   "cell_type": "code",
   "execution_count": 63,
   "id": "7b5295f1",
   "metadata": {},
   "outputs": [
    {
     "data": {
      "text/html": [
       "<div>\n",
       "<style scoped>\n",
       "    .dataframe tbody tr th:only-of-type {\n",
       "        vertical-align: middle;\n",
       "    }\n",
       "\n",
       "    .dataframe tbody tr th {\n",
       "        vertical-align: top;\n",
       "    }\n",
       "\n",
       "    .dataframe thead th {\n",
       "        text-align: right;\n",
       "    }\n",
       "</style>\n",
       "<table border=\"1\" class=\"dataframe\">\n",
       "  <thead>\n",
       "    <tr style=\"text-align: right;\">\n",
       "      <th></th>\n",
       "      <th>customer_lifetime_value</th>\n",
       "      <th>income</th>\n",
       "      <th>monthly_premium_auto</th>\n",
       "      <th>months_since_last_claim</th>\n",
       "      <th>months_since_policy_inception</th>\n",
       "      <th>number_of_open_complaints</th>\n",
       "      <th>number_of_policies</th>\n",
       "      <th>x0_California</th>\n",
       "      <th>x0_Nevada</th>\n",
       "      <th>x0_Oregon</th>\n",
       "      <th>...</th>\n",
       "      <th>x11_Branch</th>\n",
       "      <th>x11_Call Center</th>\n",
       "      <th>x11_Web</th>\n",
       "      <th>x12_Luxury Car</th>\n",
       "      <th>x12_Luxury SUV</th>\n",
       "      <th>x12_SUV</th>\n",
       "      <th>x12_Sports Car</th>\n",
       "      <th>x12_Two-Door Car</th>\n",
       "      <th>x13_Medsize</th>\n",
       "      <th>x13_Small</th>\n",
       "    </tr>\n",
       "  </thead>\n",
       "  <tbody>\n",
       "    <tr>\n",
       "      <th>2557</th>\n",
       "      <td>0.430370</td>\n",
       "      <td>0.728961</td>\n",
       "      <td>0.220416</td>\n",
       "      <td>0.942696</td>\n",
       "      <td>0.304494</td>\n",
       "      <td>0.406592</td>\n",
       "      <td>1.000000</td>\n",
       "      <td>0.0</td>\n",
       "      <td>0.0</td>\n",
       "      <td>0.0</td>\n",
       "      <td>...</td>\n",
       "      <td>0.0</td>\n",
       "      <td>0.0</td>\n",
       "      <td>1.0</td>\n",
       "      <td>0.0</td>\n",
       "      <td>0.0</td>\n",
       "      <td>0.0</td>\n",
       "      <td>0.0</td>\n",
       "      <td>0.0</td>\n",
       "      <td>1.0</td>\n",
       "      <td>0.0</td>\n",
       "    </tr>\n",
       "    <tr>\n",
       "      <th>8435</th>\n",
       "      <td>0.263033</td>\n",
       "      <td>0.774969</td>\n",
       "      <td>0.470227</td>\n",
       "      <td>0.073658</td>\n",
       "      <td>0.025039</td>\n",
       "      <td>0.364197</td>\n",
       "      <td>0.000000</td>\n",
       "      <td>0.0</td>\n",
       "      <td>0.0</td>\n",
       "      <td>1.0</td>\n",
       "      <td>...</td>\n",
       "      <td>0.0</td>\n",
       "      <td>0.0</td>\n",
       "      <td>0.0</td>\n",
       "      <td>0.0</td>\n",
       "      <td>0.0</td>\n",
       "      <td>0.0</td>\n",
       "      <td>0.0</td>\n",
       "      <td>0.0</td>\n",
       "      <td>1.0</td>\n",
       "      <td>0.0</td>\n",
       "    </tr>\n",
       "    <tr>\n",
       "      <th>8301</th>\n",
       "      <td>0.506310</td>\n",
       "      <td>0.008328</td>\n",
       "      <td>0.585680</td>\n",
       "      <td>0.443956</td>\n",
       "      <td>0.393506</td>\n",
       "      <td>0.364197</td>\n",
       "      <td>0.725683</td>\n",
       "      <td>0.0</td>\n",
       "      <td>0.0</td>\n",
       "      <td>1.0</td>\n",
       "      <td>...</td>\n",
       "      <td>0.0</td>\n",
       "      <td>1.0</td>\n",
       "      <td>0.0</td>\n",
       "      <td>0.0</td>\n",
       "      <td>0.0</td>\n",
       "      <td>1.0</td>\n",
       "      <td>0.0</td>\n",
       "      <td>0.0</td>\n",
       "      <td>1.0</td>\n",
       "      <td>0.0</td>\n",
       "    </tr>\n",
       "    <tr>\n",
       "      <th>8208</th>\n",
       "      <td>0.520073</td>\n",
       "      <td>0.548600</td>\n",
       "      <td>0.162606</td>\n",
       "      <td>0.777296</td>\n",
       "      <td>0.524397</td>\n",
       "      <td>0.364197</td>\n",
       "      <td>0.411608</td>\n",
       "      <td>1.0</td>\n",
       "      <td>0.0</td>\n",
       "      <td>0.0</td>\n",
       "      <td>...</td>\n",
       "      <td>1.0</td>\n",
       "      <td>0.0</td>\n",
       "      <td>0.0</td>\n",
       "      <td>0.0</td>\n",
       "      <td>0.0</td>\n",
       "      <td>0.0</td>\n",
       "      <td>0.0</td>\n",
       "      <td>1.0</td>\n",
       "      <td>0.0</td>\n",
       "      <td>1.0</td>\n",
       "    </tr>\n",
       "    <tr>\n",
       "      <th>2796</th>\n",
       "      <td>0.124724</td>\n",
       "      <td>0.256378</td>\n",
       "      <td>0.051002</td>\n",
       "      <td>0.685659</td>\n",
       "      <td>0.465692</td>\n",
       "      <td>0.364197</td>\n",
       "      <td>0.000000</td>\n",
       "      <td>0.0</td>\n",
       "      <td>0.0</td>\n",
       "      <td>1.0</td>\n",
       "      <td>...</td>\n",
       "      <td>0.0</td>\n",
       "      <td>0.0</td>\n",
       "      <td>0.0</td>\n",
       "      <td>0.0</td>\n",
       "      <td>0.0</td>\n",
       "      <td>0.0</td>\n",
       "      <td>0.0</td>\n",
       "      <td>0.0</td>\n",
       "      <td>1.0</td>\n",
       "      <td>0.0</td>\n",
       "    </tr>\n",
       "  </tbody>\n",
       "</table>\n",
       "<p>5 rows × 50 columns</p>\n",
       "</div>"
      ],
      "text/plain": [
       "      customer_lifetime_value    income  monthly_premium_auto  \\\n",
       "2557                 0.430370  0.728961              0.220416   \n",
       "8435                 0.263033  0.774969              0.470227   \n",
       "8301                 0.506310  0.008328              0.585680   \n",
       "8208                 0.520073  0.548600              0.162606   \n",
       "2796                 0.124724  0.256378              0.051002   \n",
       "\n",
       "      months_since_last_claim  months_since_policy_inception  \\\n",
       "2557                 0.942696                       0.304494   \n",
       "8435                 0.073658                       0.025039   \n",
       "8301                 0.443956                       0.393506   \n",
       "8208                 0.777296                       0.524397   \n",
       "2796                 0.685659                       0.465692   \n",
       "\n",
       "      number_of_open_complaints  number_of_policies  x0_California  x0_Nevada  \\\n",
       "2557                   0.406592            1.000000            0.0        0.0   \n",
       "8435                   0.364197            0.000000            0.0        0.0   \n",
       "8301                   0.364197            0.725683            0.0        0.0   \n",
       "8208                   0.364197            0.411608            1.0        0.0   \n",
       "2796                   0.364197            0.000000            0.0        0.0   \n",
       "\n",
       "      x0_Oregon  ...  x11_Branch  x11_Call Center  x11_Web  x12_Luxury Car  \\\n",
       "2557        0.0  ...         0.0              0.0      1.0             0.0   \n",
       "8435        1.0  ...         0.0              0.0      0.0             0.0   \n",
       "8301        1.0  ...         0.0              1.0      0.0             0.0   \n",
       "8208        0.0  ...         1.0              0.0      0.0             0.0   \n",
       "2796        1.0  ...         0.0              0.0      0.0             0.0   \n",
       "\n",
       "      x12_Luxury SUV  x12_SUV  x12_Sports Car  x12_Two-Door Car  x13_Medsize  \\\n",
       "2557             0.0      0.0             0.0               0.0          1.0   \n",
       "8435             0.0      0.0             0.0               0.0          1.0   \n",
       "8301             0.0      1.0             0.0               0.0          1.0   \n",
       "8208             0.0      0.0             0.0               1.0          0.0   \n",
       "2796             0.0      0.0             0.0               0.0          1.0   \n",
       "\n",
       "      x13_Small  \n",
       "2557        0.0  \n",
       "8435        0.0  \n",
       "8301        0.0  \n",
       "8208        1.0  \n",
       "2796        0.0  \n",
       "\n",
       "[5 rows x 50 columns]"
      ]
     },
     "execution_count": 63,
     "metadata": {},
     "output_type": "execute_result"
    }
   ],
   "source": [
    "# One Hot Encoding categorical variables\n",
    "encoder = OneHotEncoder(handle_unknown='error', drop='first') #drop one column for efficiency. It can be deduced\n",
    "X_cat_encoded_mms = encoder.fit_transform(X_cat_mms).toarray()\n",
    "\n",
    "column_names = list(X_num_mms.columns) # get list of numerical column names\n",
    "column_names.extend(list(encoder.get_feature_names())) # add list of dummified categorical column names\n",
    "\n",
    "X_numcat_mms = np.concatenate([X_num_mms, X_cat_encoded_mms], axis=1)\n",
    "X_ready_mms = pd.DataFrame(data=X_numcat_mms, index=X.index, columns=column_names)\n",
    "X_ready_mms.sample(5)"
   ]
  },
  {
   "cell_type": "markdown",
   "id": "3840c584",
   "metadata": {},
   "source": [
    "### Train the model"
   ]
  },
  {
   "cell_type": "code",
   "execution_count": 57,
   "id": "2b0308e9",
   "metadata": {},
   "outputs": [
    {
     "data": {
      "text/plain": [
       "LinearRegression()"
      ]
     },
     "execution_count": 57,
     "metadata": {},
     "output_type": "execute_result"
    }
   ],
   "source": [
    "X_train_mms, X_test_mms, y_train_mms, y_test_mms = train_test_split(X_ready_mms, y_mms, test_size=0.3, random_state=42)\n",
    "\n",
    "model = LinearRegression()\n",
    "model.fit(X_train_mms, y_train_mms)"
   ]
  },
  {
   "cell_type": "markdown",
   "id": "498b8e14",
   "metadata": {},
   "source": [
    "### Inverse normalization MinMax Scaler"
   ]
  },
  {
   "cell_type": "code",
   "execution_count": 68,
   "id": "2cd043e8",
   "metadata": {},
   "outputs": [
    {
     "data": {
      "text/plain": [
       "(2561, 7)"
      ]
     },
     "execution_count": 68,
     "metadata": {},
     "output_type": "execute_result"
    }
   ],
   "source": [
    "X_test_no_cat=X_test.drop(list(encoder.get_feature_names()),axis=1)\n",
    "X_test_no_cat.shape"
   ]
  },
  {
   "cell_type": "code",
   "execution_count": 74,
   "id": "24999096",
   "metadata": {},
   "outputs": [],
   "source": [
    "predictions_norm_mms_ = model.predict(X_test_mms)\n",
    "predictions_norm_mms=pd.DataFrame(data=predictions_norm_mms_,index=X_test_mms.index)"
   ]
  },
  {
   "cell_type": "code",
   "execution_count": 93,
   "id": "ac81508a",
   "metadata": {},
   "outputs": [
    {
     "data": {
      "text/html": [
       "<div>\n",
       "<style scoped>\n",
       "    .dataframe tbody tr th:only-of-type {\n",
       "        vertical-align: middle;\n",
       "    }\n",
       "\n",
       "    .dataframe tbody tr th {\n",
       "        vertical-align: top;\n",
       "    }\n",
       "\n",
       "    .dataframe thead th {\n",
       "        text-align: right;\n",
       "    }\n",
       "</style>\n",
       "<table border=\"1\" class=\"dataframe\">\n",
       "  <thead>\n",
       "    <tr style=\"text-align: right;\">\n",
       "      <th></th>\n",
       "      <th>0</th>\n",
       "    </tr>\n",
       "  </thead>\n",
       "  <tbody>\n",
       "    <tr>\n",
       "      <th>5637</th>\n",
       "      <td>15.150202</td>\n",
       "    </tr>\n",
       "    <tr>\n",
       "      <th>4049</th>\n",
       "      <td>30.707003</td>\n",
       "    </tr>\n",
       "    <tr>\n",
       "      <th>4309</th>\n",
       "      <td>33.007517</td>\n",
       "    </tr>\n",
       "    <tr>\n",
       "      <th>6909</th>\n",
       "      <td>40.354124</td>\n",
       "    </tr>\n",
       "    <tr>\n",
       "      <th>4948</th>\n",
       "      <td>41.458734</td>\n",
       "    </tr>\n",
       "    <tr>\n",
       "      <th>...</th>\n",
       "      <td>...</td>\n",
       "    </tr>\n",
       "    <tr>\n",
       "      <th>312</th>\n",
       "      <td>15.392531</td>\n",
       "    </tr>\n",
       "    <tr>\n",
       "      <th>468</th>\n",
       "      <td>13.860316</td>\n",
       "    </tr>\n",
       "    <tr>\n",
       "      <th>831</th>\n",
       "      <td>25.284218</td>\n",
       "    </tr>\n",
       "    <tr>\n",
       "      <th>1203</th>\n",
       "      <td>36.060503</td>\n",
       "    </tr>\n",
       "    <tr>\n",
       "      <th>8401</th>\n",
       "      <td>36.815613</td>\n",
       "    </tr>\n",
       "  </tbody>\n",
       "</table>\n",
       "<p>2561 rows × 1 columns</p>\n",
       "</div>"
      ],
      "text/plain": [
       "              0\n",
       "5637  15.150202\n",
       "4049  30.707003\n",
       "4309  33.007517\n",
       "6909  40.354124\n",
       "4948  41.458734\n",
       "...         ...\n",
       "312   15.392531\n",
       "468   13.860316\n",
       "831   25.284218\n",
       "1203  36.060503\n",
       "8401  36.815613\n",
       "\n",
       "[2561 rows x 1 columns]"
      ]
     },
     "execution_count": 93,
     "metadata": {},
     "output_type": "execute_result"
    }
   ],
   "source": [
    "aux_df=pd.concat([X_test_no_cat,predictions_norm_mms],axis=1)\n",
    "to_drop=X_test_no_cat.columns\n",
    "predictions_mms_ = scaler.inverse_transform(aux_df)\n",
    "aux_columns=aux_df.columns\n",
    "aux_index=aux_df.index\n",
    "predictions_mms=pd.DataFrame(data=predictions_mms_,index=aux_index,columns=aux_columns).drop(to_drop, axis=1)\n",
    "predictions_mms"
   ]
  },
  {
   "cell_type": "markdown",
   "id": "fe9d531e",
   "metadata": {},
   "source": [
    "## Model evaluation and metrics"
   ]
  },
  {
   "cell_type": "code",
   "execution_count": 92,
   "id": "31880918",
   "metadata": {},
   "outputs": [
    {
     "data": {
      "text/html": [
       "<div>\n",
       "<style scoped>\n",
       "    .dataframe tbody tr th:only-of-type {\n",
       "        vertical-align: middle;\n",
       "    }\n",
       "\n",
       "    .dataframe tbody tr th {\n",
       "        vertical-align: top;\n",
       "    }\n",
       "\n",
       "    .dataframe thead th {\n",
       "        text-align: right;\n",
       "    }\n",
       "</style>\n",
       "<table border=\"1\" class=\"dataframe\">\n",
       "  <thead>\n",
       "    <tr style=\"text-align: right;\">\n",
       "      <th></th>\n",
       "      <th>parameter</th>\n",
       "      <th>model_BoxCox</th>\n",
       "      <th>model_MinMaxScaler</th>\n",
       "    </tr>\n",
       "  </thead>\n",
       "  <tbody>\n",
       "    <tr>\n",
       "      <th>0</th>\n",
       "      <td>R2</td>\n",
       "      <td>0.829580</td>\n",
       "      <td>0.829580</td>\n",
       "    </tr>\n",
       "    <tr>\n",
       "      <th>1</th>\n",
       "      <td>MAE</td>\n",
       "      <td>387.821109</td>\n",
       "      <td>32.940006</td>\n",
       "    </tr>\n",
       "    <tr>\n",
       "      <th>2</th>\n",
       "      <td>MSE</td>\n",
       "      <td>183016.931774</td>\n",
       "      <td>1155.538935</td>\n",
       "    </tr>\n",
       "    <tr>\n",
       "      <th>3</th>\n",
       "      <td>RMSE</td>\n",
       "      <td>427.804782</td>\n",
       "      <td>33.993219</td>\n",
       "    </tr>\n",
       "  </tbody>\n",
       "</table>\n",
       "</div>"
      ],
      "text/plain": [
       "  parameter   model_BoxCox  model_MinMaxScaler\n",
       "0        R2       0.829580            0.829580\n",
       "1       MAE     387.821109           32.940006\n",
       "2       MSE  183016.931774         1155.538935\n",
       "3      RMSE     427.804782           33.993219"
      ]
     },
     "execution_count": 92,
     "metadata": {},
     "output_type": "execute_result"
    }
   ],
   "source": [
    "R2_mms = r2_score(y_test_mms, predictions_norm_mms)\n",
    "MAE_mms = mean_absolute_error(y_test_mms, predictions_mms)\n",
    "MSE_mms = mean_squared_error(y_test_mms, predictions_mms, squared=True)\n",
    "RMSE_mms = mean_squared_error(y_test_mms, predictions_mms, squared=False)\n",
    "\n",
    "dict_ = {'parameter':['R2','MAE','MSE','RMSE'],'model_BoxCox': [R2,MAE,MSE,RMSE], 'model_MinMaxScaler': [R2_mms,MAE_mms,MSE_mms,RMSE_mms]}\n",
    "evaluation = pd.DataFrame(data=dict_)\n",
    "evaluation"
   ]
  },
  {
   "cell_type": "code",
   "execution_count": 95,
   "id": "73f97cb5",
   "metadata": {},
   "outputs": [
    {
     "data": {
      "text/html": [
       "<div>\n",
       "<style scoped>\n",
       "    .dataframe tbody tr th:only-of-type {\n",
       "        vertical-align: middle;\n",
       "    }\n",
       "\n",
       "    .dataframe tbody tr th {\n",
       "        vertical-align: top;\n",
       "    }\n",
       "\n",
       "    .dataframe thead th {\n",
       "        text-align: right;\n",
       "    }\n",
       "</style>\n",
       "<table border=\"1\" class=\"dataframe\">\n",
       "  <thead>\n",
       "    <tr style=\"text-align: right;\">\n",
       "      <th></th>\n",
       "      <th>true</th>\n",
       "      <th>pred</th>\n",
       "      <th>resid</th>\n",
       "    </tr>\n",
       "  </thead>\n",
       "  <tbody>\n",
       "    <tr>\n",
       "      <th>2336</th>\n",
       "      <td>1152.000000</td>\n",
       "      <td>51.837737</td>\n",
       "      <td>1100.162263</td>\n",
       "    </tr>\n",
       "    <tr>\n",
       "      <th>3475</th>\n",
       "      <td>1152.000000</td>\n",
       "      <td>54.365005</td>\n",
       "      <td>1097.634995</td>\n",
       "    </tr>\n",
       "    <tr>\n",
       "      <th>2008</th>\n",
       "      <td>1138.255325</td>\n",
       "      <td>40.976152</td>\n",
       "      <td>1097.279173</td>\n",
       "    </tr>\n",
       "    <tr>\n",
       "      <th>7437</th>\n",
       "      <td>1134.960471</td>\n",
       "      <td>42.479700</td>\n",
       "      <td>1092.480771</td>\n",
       "    </tr>\n",
       "    <tr>\n",
       "      <th>3760</th>\n",
       "      <td>1142.400000</td>\n",
       "      <td>53.602307</td>\n",
       "      <td>1088.797693</td>\n",
       "    </tr>\n",
       "    <tr>\n",
       "      <th>...</th>\n",
       "      <td>...</td>\n",
       "      <td>...</td>\n",
       "      <td>...</td>\n",
       "    </tr>\n",
       "    <tr>\n",
       "      <th>3283</th>\n",
       "      <td>44.730323</td>\n",
       "      <td>19.945129</td>\n",
       "      <td>24.785194</td>\n",
       "    </tr>\n",
       "    <tr>\n",
       "      <th>4591</th>\n",
       "      <td>43.084332</td>\n",
       "      <td>19.169433</td>\n",
       "      <td>23.914899</td>\n",
       "    </tr>\n",
       "    <tr>\n",
       "      <th>1682</th>\n",
       "      <td>45.049185</td>\n",
       "      <td>23.108593</td>\n",
       "      <td>21.940592</td>\n",
       "    </tr>\n",
       "    <tr>\n",
       "      <th>4153</th>\n",
       "      <td>46.949646</td>\n",
       "      <td>25.705737</td>\n",
       "      <td>21.243909</td>\n",
       "    </tr>\n",
       "    <tr>\n",
       "      <th>562</th>\n",
       "      <td>46.492039</td>\n",
       "      <td>26.812241</td>\n",
       "      <td>19.679798</td>\n",
       "    </tr>\n",
       "  </tbody>\n",
       "</table>\n",
       "<p>2561 rows × 3 columns</p>\n",
       "</div>"
      ],
      "text/plain": [
       "             true       pred        resid\n",
       "2336  1152.000000  51.837737  1100.162263\n",
       "3475  1152.000000  54.365005  1097.634995\n",
       "2008  1138.255325  40.976152  1097.279173\n",
       "7437  1134.960471  42.479700  1092.480771\n",
       "3760  1142.400000  53.602307  1088.797693\n",
       "...           ...        ...          ...\n",
       "3283    44.730323  19.945129    24.785194\n",
       "4591    43.084332  19.169433    23.914899\n",
       "1682    45.049185  23.108593    21.940592\n",
       "4153    46.949646  25.705737    21.243909\n",
       "562     46.492039  26.812241    19.679798\n",
       "\n",
       "[2561 rows x 3 columns]"
      ]
     },
     "metadata": {},
     "output_type": "display_data"
    },
    {
     "data": {
      "image/png": "[encoded data removed]",
      "text/plain": [
       "<Figure size 432x288 with 1 Axes>"
      ]
     },
     "metadata": {
      "needs_background": "light"
     },
     "output_type": "display_data"
    }
   ],
   "source": [
    "results_mms = pd.DataFrame()\n",
    "\n",
    "aux_df_results=pd.concat([X_test_no_cat,y_test_mms],axis=1)\n",
    "to_drop=X_test_no_cat.columns\n",
    "inverse_mms_results_ = scaler.inverse_transform(aux_df_results)\n",
    "aux_columns=aux_df_results.columns\n",
    "aux_index=aux_df_results.index\n",
    "y_test_inv_mms=pd.DataFrame(data=inverse_mms_results_,index=aux_index,columns=aux_columns).drop(to_drop, axis=1)\n",
    "\n",
    "results_mms['true'] = inv_boxcox(y_test_2, _ci['total_claim_amount'])\n",
    "\n",
    "results_mms['pred'] = predictions_mms\n",
    "results_mms['resid'] = results_mms.apply(lambda x: abs(x['true'] - x['pred']), axis=1)\n",
    "results_mms=results_mms.sort_values('resid', ascending=False)\n",
    "\n",
    "display(results_mms)\n",
    "sns.boxplot(x=results_mms['resid'])\n",
    "plt.show()"
   ]
  },
  {
   "cell_type": "code",
   "execution_count": 98,
   "id": "11148229",
   "metadata": {},
   "outputs": [
    {
     "name": "stderr",
     "output_type": "stream",
     "text": [
      "/opt/anaconda3/lib/python3.8/site-packages/seaborn/_decorators.py:36: FutureWarning: Pass the following variables as keyword args: x, y. From version 0.12, the only valid positional argument will be `data`, and passing other arguments without an explicit keyword will result in an error or misinterpretation.\n",
      "  warnings.warn(\n"
     ]
    },
    {
     "data": {
      "text/plain": [
       "<AxesSubplot:xlabel='true', ylabel='pred'>"
      ]
     },
     "execution_count": 98,
     "metadata": {},
     "output_type": "execute_result"
    },
    {
     "data": {
      "image/png": "[encoded data removed]",
      "text/plain": [
       "<Figure size 432x288 with 1 Axes>"
      ]
     },
     "metadata": {
      "needs_background": "light"
     },
     "output_type": "display_data"
    }
   ],
   "source": [
    "sns.regplot(results_mms['true'], results_mms['pred'])\n",
    "\n",
    "#sns.regplot(results['true'], results['pred'])"
   ]
  }
 ],
 "metadata": {
  "kernelspec": {
   "display_name": "Python 3",
   "language": "python",
   "name": "python3"
  },
  "language_info": {
   "codemirror_mode": {
    "name": "ipython",
    "version": 3
   },
   "file_extension": ".py",
   "mimetype": "text/x-python",
   "name": "python",
   "nbconvert_exporter": "python",
   "pygments_lexer": "ipython3",
   "version": "3.8.8"
  }
 },
 "nbformat": 4,
 "nbformat_minor": 5
}
